{
 "cells": [
  {
   "cell_type": "markdown",
   "id": "c2daa29a-2bb9-4bac-8d6d-df44799f2ef9",
   "metadata": {},
   "source": [
    "# Lab 04- Radius of The Earth"
   ]
  },
  {
   "cell_type": "markdown",
   "id": "3cf22c6d-fb33-4693-b66b-264e7b920faf",
   "metadata": {},
   "source": [
    "### Lillian Hanson, 09/24/2025, GPGN318A"
   ]
  },
  {
   "cell_type": "code",
   "execution_count": 1,
   "id": "3c86aa05-a57e-4190-8a40-50095b6d63a7",
   "metadata": {},
   "outputs": [],
   "source": [
    "import numpy as np\n",
    "import matplotlib.pyplot as plt\n",
    "import pandas as pd\n",
    "from scipy.constants import foot"
   ]
  },
  {
   "cell_type": "markdown",
   "id": "361e8bae-7ff5-4020-a566-a8857663f345",
   "metadata": {},
   "source": [
    "#### Processing Calibrations\n",
    "The relative gravimeters need to be calibrated to give us actual mGal values. The CG5 already accounts for this and the number it gives you is in units of mGals. For the LNR though, you must account for the calibration by hand, we have attached the (somewhat outdated) calibration sheet for our specific LNR meter. You can use this to calculate the relative gravity from the dial reading as follows:\n",
    "\n",
    "Denote your dial reading as A.\n",
    "In the supplied table (see attachment), find the nearest integer smaller than your reading from the column labeled “Counter Reading”, denote this as B.\n",
    "Find the corresponding mGal value in the column labeled as “Value in mGal”, denote this as C.\n",
    "Find the corresponding factor value from the column labeled as “Factor for Interval”, denote this as F.\n",
    "Calculate the gravity in mGal using the formula: $g = C + F * (A - B)$.\n",
    "Note: You might notice this equation as adjusting the gravity value using a linear interpolation between two known values."
   ]
  },
  {
   "cell_type": "code",
   "execution_count": 2,
   "id": "c24513b4-158a-4b92-8676-8ee4717611d4",
   "metadata": {},
   "outputs": [],
   "source": [
    "df_lf = pd.read_csv('data/LNR_gravimeter(Sheet1).csv')\n",
    "df_lf[\"B\"] = None\n",
    "df_lf[\"C\"]= None\n",
    "df_lf[\"F\"]= None\n",
    "df_lf = df_lf.rename(columns={'Digital Reading':'A'})"
   ]
  },
  {
   "cell_type": "code",
   "execution_count": 3,
   "id": "04fbafe7-7684-4ce3-a0c5-944787b91af3",
   "metadata": {},
   "outputs": [
    {
     "data": {
      "text/html": [
       "<div>\n",
       "<style scoped>\n",
       "    .dataframe tbody tr th:only-of-type {\n",
       "        vertical-align: middle;\n",
       "    }\n",
       "\n",
       "    .dataframe tbody tr th {\n",
       "        vertical-align: top;\n",
       "    }\n",
       "\n",
       "    .dataframe thead th {\n",
       "        text-align: right;\n",
       "    }\n",
       "</style>\n",
       "<table border=\"1\" class=\"dataframe\">\n",
       "  <thead>\n",
       "    <tr style=\"text-align: right;\">\n",
       "      <th></th>\n",
       "      <th>Location</th>\n",
       "      <th>A</th>\n",
       "      <th>Times</th>\n",
       "      <th>Operator</th>\n",
       "      <th>B</th>\n",
       "      <th>C</th>\n",
       "      <th>F</th>\n",
       "      <th>mgal</th>\n",
       "    </tr>\n",
       "  </thead>\n",
       "  <tbody>\n",
       "    <tr>\n",
       "      <th>0</th>\n",
       "      <td>1.0</td>\n",
       "      <td>3144.200</td>\n",
       "      <td>13:57</td>\n",
       "      <td>Anna Williams</td>\n",
       "      <td>3100</td>\n",
       "      <td>3169.7</td>\n",
       "      <td>1.02481</td>\n",
       "      <td>3214.996602</td>\n",
       "    </tr>\n",
       "    <tr>\n",
       "      <th>1</th>\n",
       "      <td>1.0</td>\n",
       "      <td>3144.350</td>\n",
       "      <td>14:01</td>\n",
       "      <td>Ben Koller</td>\n",
       "      <td>3100</td>\n",
       "      <td>3169.7</td>\n",
       "      <td>1.02481</td>\n",
       "      <td>3215.150323</td>\n",
       "    </tr>\n",
       "    <tr>\n",
       "      <th>2</th>\n",
       "      <td>1.0</td>\n",
       "      <td>3144.080</td>\n",
       "      <td>14:05</td>\n",
       "      <td>Zach Shallenberger</td>\n",
       "      <td>3100</td>\n",
       "      <td>3169.7</td>\n",
       "      <td>1.02481</td>\n",
       "      <td>3214.873625</td>\n",
       "    </tr>\n",
       "    <tr>\n",
       "      <th>3</th>\n",
       "      <td>2.0</td>\n",
       "      <td>3142.640</td>\n",
       "      <td>14:30</td>\n",
       "      <td>Sam &amp; Tessa &amp; Tyna</td>\n",
       "      <td>3100</td>\n",
       "      <td>3169.7</td>\n",
       "      <td>1.02481</td>\n",
       "      <td>3213.397898</td>\n",
       "    </tr>\n",
       "    <tr>\n",
       "      <th>4</th>\n",
       "      <td>3.0</td>\n",
       "      <td>3139.242</td>\n",
       "      <td>14:45</td>\n",
       "      <td>Krishna</td>\n",
       "      <td>3100</td>\n",
       "      <td>3169.7</td>\n",
       "      <td>1.02481</td>\n",
       "      <td>3209.915594</td>\n",
       "    </tr>\n",
       "    <tr>\n",
       "      <th>5</th>\n",
       "      <td>3.0</td>\n",
       "      <td>3139.300</td>\n",
       "      <td>14:50</td>\n",
       "      <td>Joe</td>\n",
       "      <td>3100</td>\n",
       "      <td>3169.7</td>\n",
       "      <td>1.02481</td>\n",
       "      <td>3209.975033</td>\n",
       "    </tr>\n",
       "    <tr>\n",
       "      <th>6</th>\n",
       "      <td>2.0</td>\n",
       "      <td>3142.830</td>\n",
       "      <td>14:59</td>\n",
       "      <td>Anna G</td>\n",
       "      <td>3100</td>\n",
       "      <td>3169.7</td>\n",
       "      <td>1.02481</td>\n",
       "      <td>3213.592612</td>\n",
       "    </tr>\n",
       "    <tr>\n",
       "      <th>7</th>\n",
       "      <td>2.0</td>\n",
       "      <td>3142.705</td>\n",
       "      <td>15:04</td>\n",
       "      <td>Clara</td>\n",
       "      <td>3100</td>\n",
       "      <td>3169.7</td>\n",
       "      <td>1.02481</td>\n",
       "      <td>3213.464511</td>\n",
       "    </tr>\n",
       "    <tr>\n",
       "      <th>8</th>\n",
       "      <td>1.0</td>\n",
       "      <td>3144.335</td>\n",
       "      <td>15:14</td>\n",
       "      <td>Alex</td>\n",
       "      <td>3100</td>\n",
       "      <td>3169.7</td>\n",
       "      <td>1.02481</td>\n",
       "      <td>3215.134951</td>\n",
       "    </tr>\n",
       "  </tbody>\n",
       "</table>\n",
       "</div>"
      ],
      "text/plain": [
       "   Location         A  Times            Operator     B       C        F  \\\n",
       "0       1.0  3144.200  13:57       Anna Williams  3100  3169.7  1.02481   \n",
       "1       1.0  3144.350  14:01          Ben Koller  3100  3169.7  1.02481   \n",
       "2       1.0  3144.080  14:05  Zach Shallenberger  3100  3169.7  1.02481   \n",
       "3       2.0  3142.640  14:30  Sam & Tessa & Tyna  3100  3169.7  1.02481   \n",
       "4       3.0  3139.242  14:45             Krishna  3100  3169.7  1.02481   \n",
       "5       3.0  3139.300  14:50                 Joe  3100  3169.7  1.02481   \n",
       "6       2.0  3142.830  14:59              Anna G  3100  3169.7  1.02481   \n",
       "7       2.0  3142.705  15:04               Clara  3100  3169.7  1.02481   \n",
       "8       1.0  3144.335  15:14                Alex  3100  3169.7  1.02481   \n",
       "\n",
       "          mgal  \n",
       "0  3214.996602  \n",
       "1  3215.150323  \n",
       "2  3214.873625  \n",
       "3  3213.397898  \n",
       "4  3209.915594  \n",
       "5  3209.975033  \n",
       "6  3213.592612  \n",
       "7  3213.464511  \n",
       "8  3215.134951  "
      ]
     },
     "execution_count": 3,
     "metadata": {},
     "output_type": "execute_result"
    }
   ],
   "source": [
    "# add in values from table\n",
    "\n",
    "\n",
    "# B-Values\n",
    "df_lf.loc[0, 'B'] = 3100\n",
    "df_lf.loc[1, 'B'] = 3100\n",
    "df_lf.loc[2, 'B'] = 3100\n",
    "df_lf.loc[3, 'B'] = 3100\n",
    "df_lf.loc[4, 'B'] = 3100\n",
    "df_lf.loc[5, 'B'] = 3100\n",
    "df_lf.loc[6, 'B'] = 3100\n",
    "df_lf.loc[7, 'B'] = 3100\n",
    "df_lf.loc[8, 'B'] = 3100\n",
    "\n",
    "# C-Values\n",
    "df_lf.loc[0, 'C'] = 3169.70\n",
    "df_lf.loc[1, 'C'] = 3169.70\n",
    "df_lf.loc[2, 'C'] = 3169.70\n",
    "df_lf.loc[3, 'C'] = 3169.70\n",
    "df_lf.loc[4, 'C'] = 3169.70\n",
    "df_lf.loc[5, 'C'] = 3169.70\n",
    "df_lf.loc[6, 'C'] = 3169.70\n",
    "df_lf.loc[7, 'C'] = 3169.70\n",
    "df_lf.loc[8, 'C'] = 3169.70\n",
    "\n",
    "# F-Values\n",
    "df_lf.loc[0, 'F'] = 1.02481\n",
    "df_lf.loc[1, 'F'] = 1.02481\n",
    "df_lf.loc[2, 'F'] = 1.02481\n",
    "df_lf.loc[3, 'F'] = 1.02481\n",
    "df_lf.loc[4, 'F'] = 1.02481\n",
    "df_lf.loc[5, 'F'] = 1.02481\n",
    "df_lf.loc[6, 'F'] = 1.02481\n",
    "df_lf.loc[7, 'F'] = 1.02481\n",
    "df_lf.loc[8, 'F'] = 1.02481\n",
    "\n",
    "#lol they're all the same and i put them each in manually rip\n",
    "\n",
    "# Add row with computed G-values\n",
    "df_lf[\"mgal\"] = 3169.70 + 1.02481 * (df_lf[\"A\"] - 3100)\n",
    "\n",
    "df_lf"
   ]
  },
  {
   "cell_type": "markdown",
   "id": "23520ce6-eed5-49aa-a396-e05582a9117d",
   "metadata": {},
   "source": [
    "#### Measurement Averaging\n",
    "Treat each instrument separately!\n",
    "\n",
    "Average the gravity measurements taken at each visit to the stations. We visisted the stations in the following order:\n",
    "\n",
    "- Station 1 : visit 1 \n",
    "- Station 2 : visit 1\n",
    "- Station 3 : visit 1\n",
    "- Station 2 : visit 2\n",
    "- Station 1 : visit 2\n",
    "So you'll need to average all of the LNR readings at Station 1 : visit 1 together to obtain a single measurement for that location and time. Repeat with each of the visits to each station for each instrument (treat the two CG-5's separately).\n",
    "\n",
    "At the end should have a single measurement for each of the three instruments at every visit: 5 for the LNR, 5 for CG-5 1 and 5 for CG-5 2."
   ]
  },
  {
   "cell_type": "markdown",
   "id": "720c29bf-0dae-44d5-91cf-d2f457031af2",
   "metadata": {},
   "source": [
    "#### Load in CG5 Data "
   ]
  },
  {
   "cell_type": "code",
   "execution_count": 4,
   "id": "565407cc-fef8-44cd-8987-68824ebe55b8",
   "metadata": {},
   "outputs": [
    {
     "name": "stdout",
     "output_type": "stream",
     "text": [
      "    LINE  STATION      ALT      GRAV     SD  TILTX  TILTY  TEMP   TIDE  DUR  \\\n",
      "0    1.0      1.0  29.1014  3621.271  0.426    8.9   -4.5 -1.10  0.016   30   \n",
      "1    1.0      1.0  30.0779  3621.424  0.459   -5.3   -5.9 -1.11  0.023   30   \n",
      "2    1.0      1.0  30.0779  3621.361  0.135   -2.9   -7.6 -1.15  0.026   30   \n",
      "3    1.0      1.0  29.8338  3621.371  0.791   -4.6   -1.6 -1.18  0.030   30   \n",
      "4    1.0      2.0  28.8572  3619.895  0.217   -3.0   -4.0 -1.14  0.040   30   \n",
      "5    1.0      2.0  28.3689  3619.918  0.373    2.7   -0.7 -1.13  0.043   30   \n",
      "6    1.0      2.0  27.8807  3619.847  0.226   -3.3   -3.5 -1.15  0.046   30   \n",
      "7    1.0      3.0  27.3924  3616.459  0.242    0.4   -1.9 -1.18  0.053   30   \n",
      "8    1.0      3.0  27.3924  3616.465  0.193    2.8   -9.7 -1.18  0.055   30   \n",
      "9    1.0      3.0  27.3924  3616.481  0.287    1.2   -0.6 -1.19  0.058   30   \n",
      "10   1.0      2.0  27.1482  3619.872  0.138   -6.0    0.6 -1.19  0.064   30   \n",
      "11   1.0      2.0  26.9041  3619.902  0.161    4.1   -3.5 -1.19  0.065   30   \n",
      "12   1.0      2.0  26.9041  3619.925  0.123   -8.0   -2.2 -1.19  0.068   30   \n",
      "13   1.0      1.0  28.1248  3621.430  0.103   -4.0  -12.0 -1.10  0.074   30   \n",
      "14   1.0      1.0  29.5896  3621.428  0.161   -1.9   -7.4 -1.06  0.077   30   \n",
      "15   1.0      1.0  30.5662  3621.419  0.055    5.3    0.6 -1.07  0.078   30   \n",
      "\n",
      "    REJ      TIME  DEC_TIME_DATE  TERRAIN        DATE  \n",
      "0     0  13:49:24    45886.57505      0.0  2025/09/18  \n",
      "1     0  13:59:07    45886.58179      0.0  2025/09/18  \n",
      "2     0  14:04:08    45886.58527      0.0  2025/09/18  \n",
      "3     0  14:08:48    45886.58850      0.0  2025/09/18  \n",
      "4     0  14:24:29    45886.59938      0.0  2025/09/18  \n",
      "5     0  14:27:55    45886.60176      0.0  2025/09/18  \n",
      "6     0  14:33:13    45886.60543      0.0  2025/09/18  \n",
      "7     0  14:42:56    45886.61217      0.0  2025/09/18  \n",
      "8     0  14:46:20    45886.61452      0.0  2025/09/18  \n",
      "9     0  14:50:02    45886.61709      0.0  2025/09/18  \n",
      "10    0  15:00:02    45886.62402      0.0  2025/09/18  \n",
      "11    0  15:02:29    45886.62572      0.0  2025/09/18  \n",
      "12    0  15:06:06    45886.62823      0.0  2025/09/18  \n",
      "13    0  15:16:30    45886.63544      0.0  2025/09/18  \n",
      "14    0  15:21:02    45886.63858      0.0  2025/09/18  \n",
      "15    0  15:23:51    45886.64054      0.0  2025/09/18  \n"
     ]
    }
   ],
   "source": [
    "column_names = [\n",
    "    \"LINE\",\"STATION\",\"ALT\",\"GRAV\",\"SD\",\"TILTX\",\"TILTY\",\"TEMP\",\"TIDE\",\n",
    "    \"DUR\",\"REJ\",\"TIME\",\"DEC_TIME_DATE\",\"TERRAIN\",\"DATE\"\n",
    "]\n",
    "\n",
    "df_cg51 = pd.read_csv('data/CG5-1.TXT', sep=r'\\s+', skiprows=34, header=None, names=column_names)\n",
    "print(df_cg51)"
   ]
  },
  {
   "cell_type": "code",
   "execution_count": 5,
   "id": "20625294-e183-49dc-9779-e6ebddcf5d64",
   "metadata": {},
   "outputs": [
    {
     "name": "stdout",
     "output_type": "stream",
     "text": [
      "Index(['LINE', 'STATION', 'ALT', 'GRAV', 'SD', 'TILTX', 'TILTY', 'TEMP',\n",
      "       'TIDE', 'DUR', 'REJ', 'TIME', 'DEC_TIME_DATE', 'TERRAIN', 'DATE'],\n",
      "      dtype='object')\n"
     ]
    }
   ],
   "source": [
    "df_cg52 = pd.read_csv('data/CG5-2.TXT', sep=r'\\s+', skiprows=34, header=None, names=column_names)\n",
    "#print(df_cg52)\n",
    "print(df_cg52.columns)"
   ]
  },
  {
   "cell_type": "markdown",
   "id": "8202215f-9a0f-4121-a032-725a238b4941",
   "metadata": {},
   "source": [
    "#### Assign variables to loaded values"
   ]
  },
  {
   "cell_type": "code",
   "execution_count": 6,
   "id": "8bb5d436-9dae-4bfd-adaa-ae7df47d13f0",
   "metadata": {},
   "outputs": [
    {
     "name": "stdout",
     "output_type": "stream",
     "text": [
      " LNR Values: [3214.996602   3215.1503235  3214.8736248  3213.3978984  3209.91559402\n",
      " 3209.975033   3213.5926123  3213.46451105 3215.13495135] mGal\n",
      "\n",
      " CG51 Values: [3621.271 3621.424 3621.361 3621.371 3619.895 3619.918 3619.847 3616.459\n",
      " 3616.465 3616.481 3619.872 3619.902 3619.925 3621.43  3621.428 3621.419] mGal\n",
      "\n",
      " CG52 Values: [3823.572 3823.53  3823.541 3823.466 3822.116 3822.041 3822.078 3818.681\n",
      " 3818.649 3818.702 3822.158 3822.149 3822.153 3823.682 3823.667 3823.658] mGal\n",
      " LNR Variability: 5.23 mGal \n",
      " CG51 Variability: 4.97 mGal\n",
      " CG52 Variability: 5.03 mgal\n"
     ]
    }
   ],
   "source": [
    "lnr_grav = np.array(df_lf['mgal'].values)\n",
    "lnr_time = np.array(df_lf['Times'].values)\n",
    "\n",
    "times_dec = []\n",
    "for time in df_lf['Times']:\n",
    "    time = str(time)\n",
    "    decimal_time = float(time.split(':')[0])+ float(time.split(':')[1])/60\n",
    "    times_dec.append(float(decimal_time))\n",
    "\n",
    "lnr_time = times_dec\n",
    "\n",
    "cg5_1_grav = np.array(df_cg51['GRAV'].values)\n",
    "cg5_1_time = np.array(df_cg51['DEC_TIME_DATE'].values)\n",
    "\n",
    "cg5_2_grav = np.array(df_cg52['GRAV'].values)\n",
    "cg5_2_time = np.array(df_cg52['DEC_TIME_DATE'].values)\n",
    "\n",
    "lnr_range = np.ptp(lnr_grav)\n",
    "cg51_range = np.ptp(cg5_1_grav)\n",
    "cg52_range = np.ptp(cg5_2_grav)\n",
    "\n",
    "print(f' LNR Values: {lnr_grav} mGal\\n\\n CG51 Values: {cg5_1_grav} mGal\\n\\n CG52 Values: {cg5_2_grav} mGal')\n",
    "print(f' LNR Variability: {lnr_range:.2f} mGal \\n CG51 Variability: {cg51_range:.2f} mGal\\n CG52 Variability: {cg52_range:.2f} mgal')"
   ]
  },
  {
   "cell_type": "markdown",
   "id": "315eb325-8379-4ad4-bcda-166b02f0e8a7",
   "metadata": {},
   "source": [
    "### Question 1\n",
    "Comment on the variability of the measurements at each visit for each instrument."
   ]
  },
  {
   "cell_type": "markdown",
   "id": "fb40c225-9c79-405d-9d6f-c16cfa5acafa",
   "metadata": {},
   "source": [
    "The code cell above calculates the variability for each instrument: $$ LNR:\\space 5.23 \\space mGal$$ $$ CG51:\\space 4.97 \\space mGal $$ $$ CG52:\\space 5.03 \\space mGal $$ \n",
    "The variability on each instrument is similar, even though the instruments measured different values. The variability could be due to error sources such as movements near the instrument during measurement. The instruments collecting different values is due to correction settings on the CG5 instruments, and likely due to human error on the LNR. "
   ]
  },
  {
   "cell_type": "markdown",
   "id": "cb7b5374-0c50-42bb-a2f6-b519491cb723",
   "metadata": {},
   "source": [
    "#### Drift Correction\n",
    "There are many things that could change the actual acceleration of gravity throughout the time of our survey. To correct for this, we assume that the change is linear in time and repeated the measurement at station 1 at the end of the survey (we made a loop).\n",
    "\n",
    "Create a function that linearly interpolates the gravity values at Station 1 as a function of time:"
   ]
  },
  {
   "cell_type": "code",
   "execution_count": 7,
   "id": "f8cd38cc-c429-4a42-b52e-79f20c6b0848",
   "metadata": {},
   "outputs": [],
   "source": [
    "def grav_interp_new(grav_1, grav_2, time_1, time_2, time):\n",
    "    time = np.array(time, dtype=float)  # ensure numeric array\n",
    "    slope = (grav_2 - grav_1) / (time_2 - time_1)\n",
    "    new_grav = grav_1 + ( slope * (time - time_1))\n",
    "    return new_grav"
   ]
  },
  {
   "cell_type": "markdown",
   "id": "09374d4a-8103-4399-9392-5cb95370b0ba",
   "metadata": {},
   "source": [
    "You will need to calculate the value of gravity at station 1 at each time for each of the instruments. Then subtract that value from every measurement. If done correctly the repeated values of station 1 at the start and end should be the same and equal to 0."
   ]
  },
  {
   "cell_type": "code",
   "execution_count": 8,
   "id": "b77929c6-d0a5-4bc9-9299-82263cf66f12",
   "metadata": {},
   "outputs": [],
   "source": [
    "lnr_drift_corr = lnr_grav + grav_interp_new(lnr_grav[0], lnr_grav[-1], lnr_time[0], lnr_time[-1], lnr_time)\n",
    "#assert lnr_drift_corr[0] == lnr_drift_corr[-1] == 0\n",
    "\n",
    "cg51_drift_corr = cg5_1_grav + grav_interp_new(cg5_1_grav[0], cg5_1_grav[-1], cg5_1_time[0], cg5_1_time[-1], cg5_1_time)\n",
    "cg52_drift_corr = cg5_2_grav + grav_interp_new(cg5_2_grav[0], cg5_2_grav[-1], cg5_2_time[0], cg5_2_time[-1], cg5_2_time)\n",
    "\n",
    "cg51_drift_corr = pd.Series(cg51_drift_corr, name='DRIFT_CORR')\n",
    "df_cg51 = pd.concat([df_cg51, cg51_drift_corr], axis=1)\n",
    "\n",
    "cg52_drift_corr = pd.Series(cg52_drift_corr, name='DRIFT_CORR')\n",
    "df_cg52 = pd.concat([df_cg52, cg52_drift_corr], axis=1)\n",
    "\n",
    "lnr_drift_corr = pd.Series(lnr_drift_corr, name='DRIFT_CORR')\n",
    "df_lnr = pd.concat([df_lf, lnr_drift_corr], axis=1)"
   ]
  },
  {
   "cell_type": "markdown",
   "id": "f4a4e275-88cb-4bea-92f3-2847d4f5772d",
   "metadata": {},
   "source": [
    "### Question 2\n",
    "We repeated station 2 twice as well, how close are the values at this station after drift corrections?"
   ]
  },
  {
   "cell_type": "markdown",
   "id": "4b10b068-9718-489f-8840-0180c944eb29",
   "metadata": {},
   "source": [
    "The values at station 2 at each visit are within 3 mGal of each other on each instrument. "
   ]
  },
  {
   "cell_type": "markdown",
   "id": "91bfa711-cc49-4e16-9ed4-7f3b772c2433",
   "metadata": {},
   "source": [
    "#### Relative Gravity at each station\n",
    "For each instrument you should now have their drift corrected relative gravity measurements. Since you have subtract the value of gravity of Station 1 from every Station, your measurements are relative to Station 1.\n",
    "\n",
    "Next, for each instrument average any values at repeated stations to obtain a single measurement at each station (independant of time)."
   ]
  },
  {
   "cell_type": "code",
   "execution_count": 10,
   "id": "a3061da3-45b6-4137-a84e-079864e6425f",
   "metadata": {},
   "outputs": [
    {
     "name": "stdout",
     "output_type": "stream",
     "text": [
      "[7242.72825262 7241.25239266 7237.8286968 ]\n",
      "[7647.20131325 7645.73909448 7642.30173946 7642.30092822]\n",
      "[6430.07545498 6428.57863347 6425.03265112]\n"
     ]
    }
   ],
   "source": [
    "cg51_avg = np.array(df_cg51.groupby('STATION')['DRIFT_CORR'].mean())\n",
    "print(cg51_avg)\n",
    "\n",
    "cg52_avg = np.array(df_cg52.groupby('STATION')['DRIFT_CORR'].mean())\n",
    "print(cg52_avg)\n",
    "\n",
    "lnr_avg =  np.array(df_lnr.groupby('Location')['DRIFT_CORR'].mean())\n",
    "print(lnr_avg)"
   ]
  },
  {
   "cell_type": "code",
   "execution_count": 11,
   "id": "849c2cd9-2808-4d9f-9b56-0057d862df78",
   "metadata": {},
   "outputs": [
    {
     "name": "stdout",
     "output_type": "stream",
     "text": [
      "[7242.72825262 7241.25239266 7237.8286968 ]\n",
      "[7647.20131325 7645.73909448 7642.30173946]\n",
      "[6430.07545498 6428.57863347 6425.03265112]\n"
     ]
    }
   ],
   "source": [
    "# These arrays should end up with your final relative\n",
    "# values at each of the three stations for each instrument\n",
    "#lnr_rel = np.array([lnr_1_avg, lnr_2_avg, lnr_3_avg])\n",
    "cg51_rel = np.array([cg51_avg[0], cg51_avg[1], cg51_avg[2]])\n",
    "cg52_rel = np.array([cg52_avg[0], cg52_avg[1], cg52_avg[2]])\n",
    "lnr_rel = np.array([lnr_avg[0], lnr_avg[1], lnr_avg[2]])\n",
    "print(f'{cg51_rel}\\n{cg52_rel}\\n{lnr_rel}')"
   ]
  },
  {
   "cell_type": "markdown",
   "id": "49620d77-2179-4b9d-b723-209e06d952c5",
   "metadata": {},
   "source": [
    "#### Relative to Absolute\n",
    "Both the CG5 and the LNR are relative gravimeters, meaning they do not measure the full gravity value, instead they measure differences in gravity between two stations. The units of their data are in mGal (after calibration), the difference between 1 mGal and another is accurate, but a single value itself is meaningless.\n",
    "\n",
    "Ex. Imagine someone telling you it was 1.4233 degrees celsius warmer inside than it was outside. They obtained this number by using an instrument that read out 331$^\\circ$C and 332.4233$^\\circ$C. The value itself doesn’t mean anything, but the difference between them is accurate. If the true temperature inside was 24$^\\circ$C, then you could use this hypothetical relative temperature sensor to determine that the temperature outside was actually 24.4233$^\\circ$C.\n",
    "\n",
    "Because we know for certain the gravity value at one of the stations, we can use its value, and the relative differences from the gravimeters, to determine the absolute gravity at each of the other stations.\n",
    "\n",
    "After drift corrections your data are explicitly the differences between each visit and station 1 ($\\Delta S_i$). Use these values to calculate the absolute gravity at each station.\n",
    "$$\\cdot g_{abs, S_2}= \\Delta (S_2)+g_{abs, S_1}$$\n"
   ]
  },
  {
   "cell_type": "code",
   "execution_count": 12,
   "id": "2eb8f69f-e78c-41f4-9428-3c657e71570b",
   "metadata": {},
   "outputs": [],
   "source": [
    "# calculate absolute grav values\n",
    "\n",
    "lnr_1_abs = lnr_rel[0]\n",
    "lnr_2_abs = lnr_rel[1] + lnr_rel[0]\n",
    "lnr_3_abs = lnr_rel[2] + lnr_rel[0]\n",
    "\n",
    "cg51_1_abs = cg51_rel[0]\n",
    "cg51_2_abs = cg51_rel[1] + cg51_rel[0]\n",
    "cg51_3_abs = cg51_rel[2] + cg51_rel[0]\n",
    "\n",
    "cg52_1_abs = cg52_rel[0]\n",
    "cg52_2_abs = cg52_rel[1] + cg52_rel[0]\n",
    "cg52_3_abs = cg52_rel[2] + cg52_rel[0]"
   ]
  },
  {
   "cell_type": "markdown",
   "id": "8d02607f-27da-4972-83ad-6516a59cdb56",
   "metadata": {},
   "source": [
    "### Question 3\n",
    "For each instrument calculate an approximate gradient between stations 2 and 3.\n",
    "$$\\partial_zg \\approx \\frac{gs_3-gs_2}{\\Delta H}$$ How close is this to the theoretical free air gradient of -0.3086 mGal/m? Comment on any sources of error you might have encountered."
   ]
  },
  {
   "cell_type": "markdown",
   "id": "9b71b812-5408-40d7-8db5-bc134074b831",
   "metadata": {},
   "source": [
    " $\\Delta H$ = 40 m"
   ]
  },
  {
   "cell_type": "code",
   "execution_count": 13,
   "id": "9cb282f6-afe4-4dce-87d1-1d2f4056abd5",
   "metadata": {},
   "outputs": [
    {
     "name": "stdout",
     "output_type": "stream",
     "text": [
      "LNR Gradient: -0.2908 mGal/m\n",
      "CG51 Gradient: -0.2808 mGal/m\n",
      "CG52 Gradient: -0.2819 mGal/m\n",
      "-----------------\n",
      "LNR difference: 0.0178 mGal/m\n",
      "CG51 difference: 0.0278 mGal/m\n",
      "CG52 difference: 0.0267 mGal/m\n"
     ]
    }
   ],
   "source": [
    "# Convert H value to meters\n",
    "H_ft = 40\n",
    "H = 40 * foot\n",
    "\n",
    "# calculate and print gradients and differences\n",
    "grad_cg51 = (cg51_3_abs - cg51_2_abs) / H\n",
    "grad_cg52 = (cg52_3_abs - cg52_2_abs) / H\n",
    "grad_lnr = (lnr_3_abs - lnr_2_abs) / H\n",
    "\n",
    "print(f'LNR Gradient: {grad_lnr:.4f} mGal/m\\nCG51 Gradient: {grad_cg51:.4f} mGal/m\\nCG52 Gradient: {grad_cg52:.4f} mGal/m')\n",
    "print('-----------------')\n",
    "print(f'LNR difference: {grad_lnr-(-0.3086):.4f} mGal/m\\nCG51 difference: {grad_cg51-(-0.3086):.4f} mGal/m\\nCG52 difference: {grad_cg52-(-0.3086):.4f} mGal/m')"
   ]
  },
  {
   "cell_type": "markdown",
   "id": "4c83ea9c-aa66-4983-a4c8-0ddacfa11e3e",
   "metadata": {},
   "source": [
    "These values are fairly close to the theoretical free air gradient, $-0.3086 \\space mGal/m$, with all calculated values within $0.027 \\space mGal/m$ of the free air gradient. Sources of error could include:\n",
    "- Vibrations near the instrument( people walking, cars moving, etc.)\n",
    "- Human error in adjusting the LNR gravimeter\n",
    "- Inaccurate record of time or height"
   ]
  },
  {
   "cell_type": "markdown",
   "id": "bdcfedf1-2221-4741-ba95-1f48c233665c",
   "metadata": {},
   "source": [
    "## Determining the radius of the Earth\n",
    "With the absolute gravity values at each location we can now find the radius of the Earth, without needing to know the mass (or the gravitational constant)! We are going to use a first order Taylor series expansion of Newton’s Universal Law of Gravitation:"
   ]
  },
  {
   "cell_type": "markdown",
   "id": "1fbc7121-7aa4-4418-89a3-0ac463681f63",
   "metadata": {},
   "source": [
    "### Question 4\n",
    "Find an expression for the radius of the Earth at Station 2.\n",
    "\n",
    "First, find the derivative of Newton's law with respect to $R$\n",
    "$$\\frac{\\partial g_{abs}}{\\partial R} = ...$$\n",
    "Then simplify this using $g_{abs}(R)$ itself. i.e.\n",
    "$$\\frac{\\partial g_{abs}}{\\partial R}=g_{abs}(R)...$$\n",
    "Use Newton's law in the Taylor series with $f(a)=g_{abs}(S_2)$ and $f(x)=g_{abs}(S_3)$ including only the first order in $x$ to show that\n",
    "$$g_{abs}(S_3) \\approx g_{abs}(S_2)-2\\frac{g(S_2)}{R_2}\\Delta H$$\n",
    "Finally solve for $R_2$ to obtain an expression for the radius of the Earth at Station 2. "
   ]
  },
  {
   "cell_type": "code",
   "execution_count": 14,
   "id": "1e20d532-ed8e-4fef-be28-ef2805175277",
   "metadata": {},
   "outputs": [
    {
     "name": "stdout",
     "output_type": "stream",
     "text": [
      "g2 = 12858.6541\n",
      "g3 = 12855.1081\n",
      "LNR Radius at S2 = 884.2272 km\n"
     ]
    }
   ],
   "source": [
    "# to solve for R2- LNR:\n",
    "g2_lnr = lnr_2_abs\n",
    "g3_lnr = lnr_3_abs\n",
    "h = H # converted value from above\n",
    "\n",
    "r2_lnr = (2 * g2_lnr * h) / (g2_lnr - g3_lnr)\n",
    "\n",
    "print(f'g2 = {g2_lnr:.4f}\\ng3 = {g3_lnr:.4f}\\nLNR Radius at S2 = {r2_lnr / 100:.4f} km')"
   ]
  },
  {
   "cell_type": "markdown",
   "id": "ee60b0ce-0bfc-4f5c-9e9b-ee612d44514a",
   "metadata": {},
   "source": [
    "##### Radius of the Earth measured by the LNR instrument at Station 2: 884.2272 km"
   ]
  },
  {
   "cell_type": "markdown",
   "id": "9404f78f-225d-46ec-8558-c383e1c8fe46",
   "metadata": {},
   "source": [
    "### Question 5\n",
    "Use your equation to obtain estimates of the Earth for each instrument. Comment on how close they were to each other and how close they were to the distance to the center of the Earth in Golden. "
   ]
  },
  {
   "cell_type": "code",
   "execution_count": 15,
   "id": "5c0121e4-bd30-4c07-8f56-06ba340f7a55",
   "metadata": {},
   "outputs": [],
   "source": [
    "# to solve for R2-cg51:\n",
    "g2_cg1 = cg51_2_abs\n",
    "g3_cg1 = cg51_3_abs\n",
    "\n",
    "r2_cg51 = (2 * g2_cg1 * h) / (g2_cg1 - g3_cg1)"
   ]
  },
  {
   "cell_type": "code",
   "execution_count": 16,
   "id": "918aa9c4-2a9e-4381-bbdd-40ba4776dabb",
   "metadata": {},
   "outputs": [],
   "source": [
    "# to solve for R2-cg52:\n",
    "g2_cg2 = cg52_2_abs\n",
    "g3_cg2 = cg52_3_abs\n",
    "\n",
    "r2_cg52 = (2 * g2_cg2 * h) / (g2_cg2 - g3_cg2)"
   ]
  },
  {
   "cell_type": "code",
   "execution_count": 17,
   "id": "1743d02a-eef4-4305-b5d7-174d35d798b3",
   "metadata": {},
   "outputs": [
    {
     "name": "stdout",
     "output_type": "stream",
     "text": [
      "LNR Radius at S2 = 884.2272 km\n",
      "CG51 Radius at S2 = 1031.5676 km\n",
      "CG52 Radius at S2 = 1084.8547 km\n"
     ]
    }
   ],
   "source": [
    "print(f'LNR Radius at S2 = {r2_lnr / 100:.4f} km')\n",
    "print(f'CG51 Radius at S2 = {r2_cg51 / 100:.4f} km')\n",
    "print(f'CG52 Radius at S2 = {r2_cg52 / 100:.4f} km')"
   ]
  },
  {
   "cell_type": "markdown",
   "id": "3b9f370f-b3c1-408c-88be-306ac063f635",
   "metadata": {},
   "source": [
    "#### Results:\n",
    "\n",
    "My calculated values for the radius of the Earth are printed above. I am aware that this is not a realistic value for the radius of the Earth. This error definitely occured with the way I processed the data. My educated guess is that the error/bug specifically lies in my drift correction code, but I was not able to resolve this issue at this time. "
   ]
  },
  {
   "cell_type": "markdown",
   "id": "51feea2c-6f17-4be5-acaa-5b665c1919c8",
   "metadata": {},
   "source": [
    "### Deliverables:\n",
    "- Describe the steps necessary to take a reading with each gravimeter\n",
    "- Answer the questions throughout the report (5 total)\n",
    "- Present the results of your attempts to measure the radius of the Earth.\n",
    "- Attatch your field notebook to your report."
   ]
  },
  {
   "cell_type": "markdown",
   "id": "728b4c80-415d-4f67-a16d-9756561971db",
   "metadata": {},
   "source": [
    "### Steps for each Gravimeter:"
   ]
  },
  {
   "cell_type": "markdown",
   "id": "15122d2d-c86d-4a4b-a75a-f1e1a997d2fb",
   "metadata": {},
   "source": [
    "#### LaCoste and Romberg (LNR) Model G gravity meter\n",
    "Getting measurements:\n",
    "1) Level the gravimeter by adjusting the screws and aligning the leveling bubbles.\n",
    "2) Unlock the spring\n",
    "3) Turn the light on\n",
    "4) Looking into the eyepiece, use the adjustment dial to get the scale to read 2.4 (ensure the reading is stable)\n",
    "5) Record the reading next to the adjustment dial\n",
    "7) Convert measurement values according to manual guide"
   ]
  },
  {
   "cell_type": "markdown",
   "id": "e4fc94f8-2308-4866-a043-1093be9ba3c6",
   "metadata": {},
   "source": [
    "#### Scintrex CG-5 gravimeter\n",
    "Getting measurements:\n",
    "1) Ensure the station label is correct\n",
    "2) Level the instrument until the black axis line align in the center circle (you should get a smiley face)\n",
    "3) Press measure and move away from the instrument\n",
    "4) The blue light indicates it is in the process of taking measurements- reduce movement while this is happening\n",
    "5) Save the measurement"
   ]
  }
 ],
 "metadata": {
  "kernelspec": {
   "display_name": "Python 3 (ipykernel)",
   "language": "python",
   "name": "python3"
  },
  "language_info": {
   "codemirror_mode": {
    "name": "ipython",
    "version": 3
   },
   "file_extension": ".py",
   "mimetype": "text/x-python",
   "name": "python",
   "nbconvert_exporter": "python",
   "pygments_lexer": "ipython3",
   "version": "3.12.11"
  }
 },
 "nbformat": 4,
 "nbformat_minor": 5
}
