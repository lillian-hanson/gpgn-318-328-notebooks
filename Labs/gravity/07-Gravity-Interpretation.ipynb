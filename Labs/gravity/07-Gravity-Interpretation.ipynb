{
 "cells": [
  {
   "cell_type": "markdown",
   "id": "014fc98a-19dd-4083-8697-29914625d11a",
   "metadata": {
    "editable": true,
    "slideshow": {
     "slide_type": ""
    },
    "tags": []
   },
   "source": [
    "# Gravity Model fitting\n",
    "------\n",
    "* Due date: October 15, 2025"
   ]
  },
  {
   "cell_type": "markdown",
   "id": "0b15d442-c967-4d0c-82d7-a70472ddb268",
   "metadata": {
    "editable": true,
    "slideshow": {
     "slide_type": ""
    },
    "tags": []
   },
   "source": [
    "## Objectives\n",
    "Our objectives are:\n",
    "* Familiarize with, and practice, the interpretation of gravity data by a trial-and-error method of modeling.\n",
    "* Understand the ambiguity between the recovered density, geometry, and depth of a causative body during gravity interpretation when the data contain varying error levels.\n",
    "* Quantitatively interpret the gravity data you collected in the previous lab over the “possible” steam tunnel beneath the CSM campus.\n"
   ]
  },
  {
   "cell_type": "code",
   "execution_count": 1,
   "id": "bc774289-d6ee-497d-813c-d1bf4d6cd367",
   "metadata": {},
   "outputs": [],
   "source": [
    "import numpy as np\n",
    "from grav_utils.grav_interact import GravInteract\n",
    "import matplotlib.pyplot as plt\n",
    "import pandas as pd"
   ]
  },
  {
   "cell_type": "markdown",
   "id": "d6fc9a90-3e0c-4eb5-af04-78f4e94fc707",
   "metadata": {
    "editable": true,
    "slideshow": {
     "slide_type": ""
    },
    "tags": []
   },
   "source": [
    "## Background\n",
    "### Interactive Widget\n",
    "\n",
    "The gravity modelling widget you used to forward model, can also load in observed data, additionally with its standard deviation, to compare against!\n",
    "\n",
    "The controls are all the same, except that now your observation locations should be the same as your observed data locations, and you can additionally pass a data and standard deviation arrays.\n",
    "\n",
    "You should also notice that when data are loaded into it, it displays a value called \"misfit\" representing how poorly the observed and predicted data match each other (the smaller the the closer it matches the observed data). In this widget, the misfit is defined as:\n",
    "\n",
    "$$ \\frac{1}{N_d}\\sum_{i=1}^{N_d} \\left(\\frac{d_{pre,i} - d_{obs,i}}{\\sigma_i}\\right)^2$$\n",
    "\n",
    "**New**: You can also easily get and set the value of the denisty programatically with\n",
    "* `modeler.get_density()`\n",
    "* `modeler.set_density(value)`"
   ]
  },
  {
   "cell_type": "markdown",
   "id": "501f5037-b591-49ca-8941-c52735de1e4d",
   "metadata": {},
   "source": [
    "## Tasks\n"
   ]
  },
  {
   "cell_type": "markdown",
   "id": "082781be-589d-4d7c-982b-93dfa2fa3aba",
   "metadata": {},
   "source": [
    "You will be interpreting three sets of data in this lab. The first two are supplied in the data files:\n",
    "`data\\obs1.grv` and `data\\obs2.grv`. For the third data set, use the data you collected over the steam tunnel."
   ]
  },
  {
   "cell_type": "markdown",
   "id": "45b9d202-3bcb-4588-9c3b-612beecd3569",
   "metadata": {},
   "source": [
    "## Data Set 1\n"
   ]
  },
  {
   "cell_type": "markdown",
   "id": "9aca1aad-51b7-4554-9c71-2d0dff4c74d4",
   "metadata": {},
   "source": [
    "For the first part we will load in the `data/obs1.grv` csv data file using pandas"
   ]
  },
  {
   "cell_type": "code",
   "execution_count": 2,
   "id": "b9a3ad37-5549-4242-b16e-120791f408f3",
   "metadata": {
    "scrolled": true
   },
   "outputs": [
    {
     "data": {
      "text/html": [
       "<div>\n",
       "<style scoped>\n",
       "    .dataframe tbody tr th:only-of-type {\n",
       "        vertical-align: middle;\n",
       "    }\n",
       "\n",
       "    .dataframe tbody tr th {\n",
       "        vertical-align: top;\n",
       "    }\n",
       "\n",
       "    .dataframe thead th {\n",
       "        text-align: right;\n",
       "    }\n",
       "</style>\n",
       "<table border=\"1\" class=\"dataframe\">\n",
       "  <thead>\n",
       "    <tr style=\"text-align: right;\">\n",
       "      <th></th>\n",
       "      <th>Profile (m)</th>\n",
       "      <th>height (m)</th>\n",
       "      <th>G_D (mGal)</th>\n",
       "      <th>STD (mGal)</th>\n",
       "    </tr>\n",
       "  </thead>\n",
       "  <tbody>\n",
       "    <tr>\n",
       "      <th>0</th>\n",
       "      <td>-2500.0</td>\n",
       "      <td>0</td>\n",
       "      <td>0.730</td>\n",
       "      <td>0.5</td>\n",
       "    </tr>\n",
       "    <tr>\n",
       "      <th>1</th>\n",
       "      <td>-2400.0</td>\n",
       "      <td>0</td>\n",
       "      <td>0.417</td>\n",
       "      <td>0.5</td>\n",
       "    </tr>\n",
       "    <tr>\n",
       "      <th>2</th>\n",
       "      <td>-2300.0</td>\n",
       "      <td>0</td>\n",
       "      <td>0.731</td>\n",
       "      <td>0.5</td>\n",
       "    </tr>\n",
       "    <tr>\n",
       "      <th>3</th>\n",
       "      <td>-2200.0</td>\n",
       "      <td>0</td>\n",
       "      <td>0.326</td>\n",
       "      <td>0.5</td>\n",
       "    </tr>\n",
       "    <tr>\n",
       "      <th>4</th>\n",
       "      <td>-2100.0</td>\n",
       "      <td>0</td>\n",
       "      <td>0.741</td>\n",
       "      <td>0.5</td>\n",
       "    </tr>\n",
       "    <tr>\n",
       "      <th>5</th>\n",
       "      <td>-2000.0</td>\n",
       "      <td>0</td>\n",
       "      <td>0.575</td>\n",
       "      <td>0.5</td>\n",
       "    </tr>\n",
       "    <tr>\n",
       "      <th>6</th>\n",
       "      <td>-1900.0</td>\n",
       "      <td>0</td>\n",
       "      <td>0.942</td>\n",
       "      <td>0.5</td>\n",
       "    </tr>\n",
       "    <tr>\n",
       "      <th>7</th>\n",
       "      <td>-1800.0</td>\n",
       "      <td>0</td>\n",
       "      <td>0.266</td>\n",
       "      <td>0.5</td>\n",
       "    </tr>\n",
       "    <tr>\n",
       "      <th>8</th>\n",
       "      <td>-1700.0</td>\n",
       "      <td>0</td>\n",
       "      <td>1.105</td>\n",
       "      <td>0.5</td>\n",
       "    </tr>\n",
       "    <tr>\n",
       "      <th>9</th>\n",
       "      <td>-1600.0</td>\n",
       "      <td>0</td>\n",
       "      <td>0.670</td>\n",
       "      <td>0.5</td>\n",
       "    </tr>\n",
       "    <tr>\n",
       "      <th>10</th>\n",
       "      <td>-1500.0</td>\n",
       "      <td>0</td>\n",
       "      <td>0.438</td>\n",
       "      <td>0.5</td>\n",
       "    </tr>\n",
       "    <tr>\n",
       "      <th>11</th>\n",
       "      <td>-1400.0</td>\n",
       "      <td>0</td>\n",
       "      <td>1.333</td>\n",
       "      <td>0.5</td>\n",
       "    </tr>\n",
       "    <tr>\n",
       "      <th>12</th>\n",
       "      <td>-1300.0</td>\n",
       "      <td>0</td>\n",
       "      <td>0.819</td>\n",
       "      <td>0.5</td>\n",
       "    </tr>\n",
       "    <tr>\n",
       "      <th>13</th>\n",
       "      <td>-1200.0</td>\n",
       "      <td>0</td>\n",
       "      <td>1.089</td>\n",
       "      <td>0.5</td>\n",
       "    </tr>\n",
       "    <tr>\n",
       "      <th>14</th>\n",
       "      <td>-1100.0</td>\n",
       "      <td>0</td>\n",
       "      <td>1.402</td>\n",
       "      <td>0.5</td>\n",
       "    </tr>\n",
       "    <tr>\n",
       "      <th>15</th>\n",
       "      <td>-1000.0</td>\n",
       "      <td>0</td>\n",
       "      <td>1.435</td>\n",
       "      <td>0.5</td>\n",
       "    </tr>\n",
       "    <tr>\n",
       "      <th>16</th>\n",
       "      <td>-900.0</td>\n",
       "      <td>0</td>\n",
       "      <td>2.215</td>\n",
       "      <td>0.5</td>\n",
       "    </tr>\n",
       "    <tr>\n",
       "      <th>17</th>\n",
       "      <td>-800.0</td>\n",
       "      <td>0</td>\n",
       "      <td>2.636</td>\n",
       "      <td>0.5</td>\n",
       "    </tr>\n",
       "    <tr>\n",
       "      <th>18</th>\n",
       "      <td>-700.0</td>\n",
       "      <td>0</td>\n",
       "      <td>3.476</td>\n",
       "      <td>0.5</td>\n",
       "    </tr>\n",
       "    <tr>\n",
       "      <th>19</th>\n",
       "      <td>-600.0</td>\n",
       "      <td>0</td>\n",
       "      <td>3.353</td>\n",
       "      <td>0.5</td>\n",
       "    </tr>\n",
       "    <tr>\n",
       "      <th>20</th>\n",
       "      <td>-500.0</td>\n",
       "      <td>0</td>\n",
       "      <td>4.558</td>\n",
       "      <td>0.5</td>\n",
       "    </tr>\n",
       "    <tr>\n",
       "      <th>21</th>\n",
       "      <td>-400.0</td>\n",
       "      <td>0</td>\n",
       "      <td>5.031</td>\n",
       "      <td>0.5</td>\n",
       "    </tr>\n",
       "    <tr>\n",
       "      <th>22</th>\n",
       "      <td>-300.0</td>\n",
       "      <td>0</td>\n",
       "      <td>5.852</td>\n",
       "      <td>0.5</td>\n",
       "    </tr>\n",
       "    <tr>\n",
       "      <th>23</th>\n",
       "      <td>-200.0</td>\n",
       "      <td>0</td>\n",
       "      <td>6.359</td>\n",
       "      <td>0.5</td>\n",
       "    </tr>\n",
       "    <tr>\n",
       "      <th>24</th>\n",
       "      <td>-100.0</td>\n",
       "      <td>0</td>\n",
       "      <td>6.145</td>\n",
       "      <td>0.5</td>\n",
       "    </tr>\n",
       "    <tr>\n",
       "      <th>25</th>\n",
       "      <td>0.0</td>\n",
       "      <td>0</td>\n",
       "      <td>5.363</td>\n",
       "      <td>0.5</td>\n",
       "    </tr>\n",
       "    <tr>\n",
       "      <th>26</th>\n",
       "      <td>100.0</td>\n",
       "      <td>0</td>\n",
       "      <td>4.193</td>\n",
       "      <td>0.5</td>\n",
       "    </tr>\n",
       "    <tr>\n",
       "      <th>27</th>\n",
       "      <td>200.0</td>\n",
       "      <td>0</td>\n",
       "      <td>2.711</td>\n",
       "      <td>0.5</td>\n",
       "    </tr>\n",
       "    <tr>\n",
       "      <th>28</th>\n",
       "      <td>300.0</td>\n",
       "      <td>0</td>\n",
       "      <td>2.078</td>\n",
       "      <td>0.5</td>\n",
       "    </tr>\n",
       "    <tr>\n",
       "      <th>29</th>\n",
       "      <td>400.0</td>\n",
       "      <td>0</td>\n",
       "      <td>2.034</td>\n",
       "      <td>0.5</td>\n",
       "    </tr>\n",
       "    <tr>\n",
       "      <th>30</th>\n",
       "      <td>500.0</td>\n",
       "      <td>0</td>\n",
       "      <td>1.327</td>\n",
       "      <td>0.5</td>\n",
       "    </tr>\n",
       "    <tr>\n",
       "      <th>31</th>\n",
       "      <td>600.0</td>\n",
       "      <td>0</td>\n",
       "      <td>1.412</td>\n",
       "      <td>0.5</td>\n",
       "    </tr>\n",
       "    <tr>\n",
       "      <th>32</th>\n",
       "      <td>700.0</td>\n",
       "      <td>0</td>\n",
       "      <td>1.228</td>\n",
       "      <td>0.5</td>\n",
       "    </tr>\n",
       "    <tr>\n",
       "      <th>33</th>\n",
       "      <td>800.0</td>\n",
       "      <td>0</td>\n",
       "      <td>0.612</td>\n",
       "      <td>0.5</td>\n",
       "    </tr>\n",
       "    <tr>\n",
       "      <th>34</th>\n",
       "      <td>900.0</td>\n",
       "      <td>0</td>\n",
       "      <td>0.501</td>\n",
       "      <td>0.5</td>\n",
       "    </tr>\n",
       "    <tr>\n",
       "      <th>35</th>\n",
       "      <td>1000.0</td>\n",
       "      <td>0</td>\n",
       "      <td>0.807</td>\n",
       "      <td>0.5</td>\n",
       "    </tr>\n",
       "    <tr>\n",
       "      <th>36</th>\n",
       "      <td>1100.0</td>\n",
       "      <td>0</td>\n",
       "      <td>0.848</td>\n",
       "      <td>0.5</td>\n",
       "    </tr>\n",
       "    <tr>\n",
       "      <th>37</th>\n",
       "      <td>1200.0</td>\n",
       "      <td>0</td>\n",
       "      <td>0.320</td>\n",
       "      <td>0.5</td>\n",
       "    </tr>\n",
       "    <tr>\n",
       "      <th>38</th>\n",
       "      <td>1300.0</td>\n",
       "      <td>0</td>\n",
       "      <td>0.447</td>\n",
       "      <td>0.5</td>\n",
       "    </tr>\n",
       "    <tr>\n",
       "      <th>39</th>\n",
       "      <td>1400.0</td>\n",
       "      <td>0</td>\n",
       "      <td>0.555</td>\n",
       "      <td>0.5</td>\n",
       "    </tr>\n",
       "    <tr>\n",
       "      <th>40</th>\n",
       "      <td>1500.0</td>\n",
       "      <td>0</td>\n",
       "      <td>0.615</td>\n",
       "      <td>0.5</td>\n",
       "    </tr>\n",
       "    <tr>\n",
       "      <th>41</th>\n",
       "      <td>1600.0</td>\n",
       "      <td>0</td>\n",
       "      <td>0.313</td>\n",
       "      <td>0.5</td>\n",
       "    </tr>\n",
       "    <tr>\n",
       "      <th>42</th>\n",
       "      <td>1700.0</td>\n",
       "      <td>0</td>\n",
       "      <td>-0.057</td>\n",
       "      <td>0.5</td>\n",
       "    </tr>\n",
       "    <tr>\n",
       "      <th>43</th>\n",
       "      <td>1800.0</td>\n",
       "      <td>0</td>\n",
       "      <td>0.011</td>\n",
       "      <td>0.5</td>\n",
       "    </tr>\n",
       "    <tr>\n",
       "      <th>44</th>\n",
       "      <td>1900.0</td>\n",
       "      <td>0</td>\n",
       "      <td>0.596</td>\n",
       "      <td>0.5</td>\n",
       "    </tr>\n",
       "    <tr>\n",
       "      <th>45</th>\n",
       "      <td>2000.0</td>\n",
       "      <td>0</td>\n",
       "      <td>-0.153</td>\n",
       "      <td>0.5</td>\n",
       "    </tr>\n",
       "    <tr>\n",
       "      <th>46</th>\n",
       "      <td>2100.0</td>\n",
       "      <td>0</td>\n",
       "      <td>0.584</td>\n",
       "      <td>0.5</td>\n",
       "    </tr>\n",
       "    <tr>\n",
       "      <th>47</th>\n",
       "      <td>2200.0</td>\n",
       "      <td>0</td>\n",
       "      <td>-0.021</td>\n",
       "      <td>0.5</td>\n",
       "    </tr>\n",
       "    <tr>\n",
       "      <th>48</th>\n",
       "      <td>2300.0</td>\n",
       "      <td>0</td>\n",
       "      <td>-0.056</td>\n",
       "      <td>0.5</td>\n",
       "    </tr>\n",
       "    <tr>\n",
       "      <th>49</th>\n",
       "      <td>2400.0</td>\n",
       "      <td>0</td>\n",
       "      <td>-0.285</td>\n",
       "      <td>0.5</td>\n",
       "    </tr>\n",
       "    <tr>\n",
       "      <th>50</th>\n",
       "      <td>2500.0</td>\n",
       "      <td>0</td>\n",
       "      <td>0.223</td>\n",
       "      <td>0.5</td>\n",
       "    </tr>\n",
       "  </tbody>\n",
       "</table>\n",
       "</div>"
      ],
      "text/plain": [
       "    Profile (m)  height (m)  G_D (mGal)  STD (mGal)\n",
       "0       -2500.0           0       0.730         0.5\n",
       "1       -2400.0           0       0.417         0.5\n",
       "2       -2300.0           0       0.731         0.5\n",
       "3       -2200.0           0       0.326         0.5\n",
       "4       -2100.0           0       0.741         0.5\n",
       "5       -2000.0           0       0.575         0.5\n",
       "6       -1900.0           0       0.942         0.5\n",
       "7       -1800.0           0       0.266         0.5\n",
       "8       -1700.0           0       1.105         0.5\n",
       "9       -1600.0           0       0.670         0.5\n",
       "10      -1500.0           0       0.438         0.5\n",
       "11      -1400.0           0       1.333         0.5\n",
       "12      -1300.0           0       0.819         0.5\n",
       "13      -1200.0           0       1.089         0.5\n",
       "14      -1100.0           0       1.402         0.5\n",
       "15      -1000.0           0       1.435         0.5\n",
       "16       -900.0           0       2.215         0.5\n",
       "17       -800.0           0       2.636         0.5\n",
       "18       -700.0           0       3.476         0.5\n",
       "19       -600.0           0       3.353         0.5\n",
       "20       -500.0           0       4.558         0.5\n",
       "21       -400.0           0       5.031         0.5\n",
       "22       -300.0           0       5.852         0.5\n",
       "23       -200.0           0       6.359         0.5\n",
       "24       -100.0           0       6.145         0.5\n",
       "25          0.0           0       5.363         0.5\n",
       "26        100.0           0       4.193         0.5\n",
       "27        200.0           0       2.711         0.5\n",
       "28        300.0           0       2.078         0.5\n",
       "29        400.0           0       2.034         0.5\n",
       "30        500.0           0       1.327         0.5\n",
       "31        600.0           0       1.412         0.5\n",
       "32        700.0           0       1.228         0.5\n",
       "33        800.0           0       0.612         0.5\n",
       "34        900.0           0       0.501         0.5\n",
       "35       1000.0           0       0.807         0.5\n",
       "36       1100.0           0       0.848         0.5\n",
       "37       1200.0           0       0.320         0.5\n",
       "38       1300.0           0       0.447         0.5\n",
       "39       1400.0           0       0.555         0.5\n",
       "40       1500.0           0       0.615         0.5\n",
       "41       1600.0           0       0.313         0.5\n",
       "42       1700.0           0      -0.057         0.5\n",
       "43       1800.0           0       0.011         0.5\n",
       "44       1900.0           0       0.596         0.5\n",
       "45       2000.0           0      -0.153         0.5\n",
       "46       2100.0           0       0.584         0.5\n",
       "47       2200.0           0      -0.021         0.5\n",
       "48       2300.0           0      -0.056         0.5\n",
       "49       2400.0           0      -0.285         0.5\n",
       "50       2500.0           0       0.223         0.5"
      ]
     },
     "execution_count": 2,
     "metadata": {},
     "output_type": "execute_result"
    }
   ],
   "source": [
    "dat1_frame = pd.read_csv('07-lab/data/obs1.grv')\n",
    "dat1_frame"
   ]
  },
  {
   "cell_type": "markdown",
   "id": "ade9fd58-9636-4598-8f9c-85902c681795",
   "metadata": {},
   "source": [
    "Then to make it a little clearer for the inputs to the modeler, let's collect the values of interest into there own variables."
   ]
  },
  {
   "cell_type": "code",
   "execution_count": 3,
   "id": "2847da93-8f37-4369-abe4-ac62d625a03f",
   "metadata": {},
   "outputs": [],
   "source": [
    "obs1 = np.c_[dat1_frame['Profile (m)'], dat1_frame['height (m)']]\n",
    "dat1 = dat1_frame['G_D (mGal)']\n",
    "std1 = dat1_frame['STD (mGal)']"
   ]
  },
  {
   "cell_type": "markdown",
   "id": "1b46640a-2afa-4fd2-a777-37f5e8b32e35",
   "metadata": {},
   "source": [
    "And finally pass it to the modeler.\n",
    "\n",
    "\n",
    "### Question 1: \n",
    "Based on the responses you saw in previous labs, what do you think the model is?"
   ]
  },
  {
   "cell_type": "code",
   "execution_count": 4,
   "id": "1f7b5e3a-63c2-482d-8e7d-488364f76909",
   "metadata": {
    "scrolled": true
   },
   "outputs": [
    {
     "data": {
      "application/vnd.jupyter.widget-view+json": {
       "model_id": "7bbaaf0943564e1088b140d0c24c94f8",
       "version_major": 2,
       "version_minor": 0
      },
      "text/plain": [
       "GravInteract(children=(FigureWidget({\n",
       "    'data': [{'mode': 'lines',\n",
       "              'type': 'scatter',\n",
       "        …"
      ]
     },
     "execution_count": 4,
     "metadata": {},
     "output_type": "execute_result"
    }
   ],
   "source": [
    "modeler = GravInteract(obs1, dat1, std1)\n",
    "modeler.set_density(1.4)\n",
    "modeler.set_polygons([[[-256.84434572207124, -125.76539261087817], [-61.90051105849918, -132.66794099839865], [-97.18910794264292, -311.0828392257332], [-151.0761380890583, -625.7769278553957], [-4.8113419773583965, -825.3390328400601], [-551.3797906052896, -671.829721313395], [-297.34093420075817, -479.9430819050642], [-235.7557568905689, -364.8110982600657]]])\n",
    "modeler"
   ]
  },
  {
   "cell_type": "markdown",
   "id": "8aa8f4ef-53a6-4b30-baa0-7e94c8cab234",
   "metadata": {},
   "source": [
    "### Question 2:\n",
    "Now begin the process of trial-and-error modeling to interpret the data set and find three different polygons that each fit the data to within their standard deviations/ Remember to save the polygon models so you can reload them later, either with the `modeler.get_polygons()` and `modeler.load_polygons()` methods, or the save and load buttons on the widget. You can also get and set the density with `modeler.set_density()` and `modeler.get_density()`."
   ]
  },
  {
   "cell_type": "markdown",
   "id": "6572481d-ac1d-43ba-96be-8dc7c6c06d67",
   "metadata": {},
   "source": [
    "1) Find a dipping slab with four vertices and a density contrast of 1.0 g/cc\n",
    "\n",
    "[array([[-300.27222688, -177.66293216],\n",
    "        [ 154.43640062, -159.76517311],\n",
    "        [-240.44214431, -696.69794465],\n",
    "        [-509.67751586, -428.23155888]])]"
   ]
  },
  {
   "cell_type": "code",
   "execution_count": 5,
   "id": "ae08f37a-d0a5-412d-a27e-8760b1fbdea4",
   "metadata": {},
   "outputs": [
    {
     "data": {
      "text/plain": [
       "[array([[-256.84434572, -125.76539261],\n",
       "        [ -61.90051106, -132.667941  ],\n",
       "        [ -97.18910794, -311.08283923],\n",
       "        [-151.07613809, -625.77692786],\n",
       "        [  -4.81134198, -825.33903284],\n",
       "        [-551.37979061, -671.82972131],\n",
       "        [-297.3409342 , -479.94308191],\n",
       "        [-235.75575689, -364.81109826]])]"
      ]
     },
     "execution_count": 5,
     "metadata": {},
     "output_type": "execute_result"
    }
   ],
   "source": [
    "modeler.get_polygons()"
   ]
  },
  {
   "cell_type": "markdown",
   "id": "0de91638-93f5-4b9f-9d63-a5b715a4bfd3",
   "metadata": {},
   "source": [
    "2) Find a similar body with a density contrast of 0.6 g/cc, with a few more vertices (Likely starting from your model in part 1)\n",
    " [array([[ -470.82417211,  -195.83378986],\n",
    "        [ -108.78562202,   -70.8819954 ],\n",
    "        [   51.34681359,  -299.96028525],\n",
    "        [   37.42225398,  -681.75743501],\n",
    "        [  -80.93650278,  -772.00039768],\n",
    "        [   65.27137321, -1237.09874375],\n",
    "        [ -164.4838605 ,  -855.30159399],\n",
    "        [ -394.23909421,  -494.32974331]])]"
   ]
  },
  {
   "cell_type": "markdown",
   "id": "0b801939-0e35-492b-8280-fa130d61b4a7",
   "metadata": {},
   "source": [
    "3) Find a model that has a density of 1.4 g/cc and a flat top."
   ]
  },
  {
   "cell_type": "markdown",
   "id": "eaf7093f-f74a-4ec1-b0f2-a6855d735c6b",
   "metadata": {
    "jp-MarkdownHeadingCollapsed": true
   },
   "source": [
    "**note**: For each of these cases, you should aim to get your data misfit close to 1.\n",
    "Also, it could be helpful to create a new widget for each part of this question (with different variable names so they don't clobber each other)"
   ]
  },
  {
   "cell_type": "markdown",
   "id": "33cec1d4-f4af-4f24-bba6-de8c11888e4b",
   "metadata": {},
   "source": [
    "## Data Set 2\n"
   ]
  },
  {
   "cell_type": "markdown",
   "id": "18cb8332-a351-4cea-ba3f-9c810df1ae8b",
   "metadata": {},
   "source": [
    "For the second part we will load in the `data/obs2.grv` csv data file using pandas. You should notice that these data look similar to **Data Set 2**, but have a much lower standard deviation."
   ]
  },
  {
   "cell_type": "code",
   "execution_count": 7,
   "id": "d6a18679-c7d7-43c8-bc0e-33b41b0f70c8",
   "metadata": {
    "scrolled": true
   },
   "outputs": [],
   "source": [
    "dat2_frame = pd.read_csv('07-lab/data/obs2.grv')\n",
    "obs2= np.c_[dat2_frame['Profile (m)'], dat2_frame['height (m)']]\n",
    "dat2 = dat2_frame['G_D (mGal)']\n",
    "std2 = dat2_frame['STD (mGal)']"
   ]
  },
  {
   "cell_type": "code",
   "execution_count": 13,
   "id": "ca06bd0e-b216-4729-a5ff-b6c37ac31c0e",
   "metadata": {},
   "outputs": [
    {
     "data": {
      "application/vnd.jupyter.widget-view+json": {
       "model_id": "8fba88d45ea547058b0f7b91acc3de31",
       "version_major": 2,
       "version_minor": 0
      },
      "text/plain": [
       "GravInteract(children=(FigureWidget({\n",
       "    'data': [{'mode': 'lines',\n",
       "              'type': 'scatter',\n",
       "        …"
      ]
     },
     "execution_count": 13,
     "metadata": {},
     "output_type": "execute_result"
    }
   ],
   "source": [
    "modeler_part2 = GravInteract(obs2, dat2, std2)\n",
    "modeler_part2.set_polygons([[[-485.59968176203824, -322.85232112398467], [-352.46541535154785, -304.662819291446], [-153.4989348530242, -229.1384752742644], [-153.4989348530242, -79.19632191471216], [128.47339742821424, -122.9294499779148], [-122.1686757106641, -347.84268001724314], [-166.1749298744312, -528.6595709708564], [-291.35207507940703, -622.7366278430892], [-316.41628239329503, -891.3829859456202], [-598.3886146745335, -710.2028839694947]]])\n",
    "modeler_part2"
   ]
  },
  {
   "cell_type": "markdown",
   "id": "4e0ec78a-73cd-4308-a61f-fc3db4ffb6ba",
   "metadata": {},
   "source": [
    "### Question 3\n",
    "1) Input the three models you found in the previous question (part 2), are they still acceptable models? Discuss why or why not.\n",
    "   - Q2-1: Misfit 8.640\n",
    "   - Q2-2: Misfit 95.164\n",
    "   - Q2-3: Misfit 54.719\n",
    "2) Pick one of the cases that is not acceptable, and find a new model that fits the data. Discuss the difference between the model derived for the `obs1.grv` data, and this model.\n"
   ]
  },
  {
   "cell_type": "markdown",
   "id": "1922aa4e-3eb1-4251-9c5c-e4778dbab43b",
   "metadata": {},
   "source": [
    "## Tunnel data\n",
    "Now that you are hopefully comfortable with the process of trial-and-error modeling, lets attempt it with the data you collected over the tunnel.\n",
    "\n",
    "1) Read in the processed gravity data (drift, free-air, and simple Bouguer corrected).\n",
    "    * You will also need the *profile distance*, and height of each observation point.\n",
    "\n",
    "**Note** you should read in your own data, the 2024 data is provided as an example"
   ]
  },
  {
   "cell_type": "code",
   "execution_count": 14,
   "id": "846bce6e-f52f-4bd9-9e5c-8da75e5e158b",
   "metadata": {},
   "outputs": [],
   "source": [
    "#load in code from lab 6\n",
    "\n",
    "column_names = [\n",
    "    \"LINE\",\"STATION\",\"ALT\",\"GRAV\",\"SD\",\"TILTX\",\"TILTY\",\"TEMP\",\"TIDE\",\n",
    "    \"DUR\",\"REJ\",\"TIME\",\"DEC_TIME_DATE\",\"TERRAIN\",\"DATE\"\n",
    "]\n",
    "\n",
    "dfcg5 = pd.read_csv('06-lab/data/grp2/CG5-2.TXT', sep=r'\\s+', skiprows=52, header=None, names=column_names)\n",
    "\n",
    "loc_data = pd.read_csv('06-lab/data/grp2/grp2-lab6.csv')\n",
    "locdf = loc_data\n",
    "\n",
    "loccols = ['STATION', 'Northing', 'Easting', 'ELEV', 'Notes']\n",
    "locdf.columns = loccols[:len(locdf.columns)]\n",
    "\n",
    "for col in ['Northing', 'Easting', 'ELEV']:\n",
    "    if col in locdf.columns:\n",
    "        locdf[col] = pd.to_numeric(locdf[col], errors = 'coerce')\n",
    "locdf = locdf.drop(index = 15)\n",
    "\n",
    "reorder = locdf.iloc[33:34]\n",
    "locdf = locdf.drop(index = 34)\n",
    "locdf_top = locdf.iloc[:24]\n",
    "locdf_bottom = locdf.iloc[24:]\n",
    "\n",
    "locdf = pd.concat([locdf_top, reorder, locdf_bottom]).reset_index(drop=True)\n",
    "\n",
    "# clean columns\n",
    "dfcg5['STATION'] = dfcg5['STATION'].astype(str).str.strip()\n",
    "locdf['STATION'] = locdf['STATION'].astype(str).str.strip()\n",
    "\n",
    "dfcg5['STATION_NUM'] = pd.to_numeric(dfcg5['STATION'], errors='coerce')\n",
    "locdf['STATION_NUM'] = pd.to_numeric(locdf['STATION'], errors='coerce')\n",
    "\n",
    "# merge data frames\n",
    "df = pd.merge(dfcg5, locdf[['STATION_NUM', 'Northing', 'Easting', 'ELEV']],\n",
    "              on='STATION_NUM', how='left')\n",
    "\n",
    "df = df[['STATION_NUM', 'GRAV', 'Northing', 'Easting', 'TIME', 'ELEV', 'SD']]\n",
    "df = df.sort_values('STATION_NUM')"
   ]
  },
  {
   "cell_type": "code",
   "execution_count": 15,
   "id": "4c69b070-1bc9-4a51-b096-c4e52723d5e2",
   "metadata": {},
   "outputs": [],
   "source": [
    "\n",
    "dat_tunnel_frame = df\n",
    "obs_tun_x = dat_tunnel_frame['STATION_NUM']\n",
    "obs_tun_z = dat_tunnel_frame['ELEV']\n",
    "\n",
    "# Note I'm subtracting the elevation at the base station here\n",
    "# So I'm not working with elevations on the order of 1741...\n",
    "obs_tunnel = np.c_[obs_tun_x, obs_tun_z-obs_tun_z[20]]\n",
    "gz_tunnel = dat_tunnel_frame['GRAV']\n",
    "std_tunnel = dat_tunnel_frame['SD']"
   ]
  },
  {
   "cell_type": "code",
   "execution_count": 16,
   "id": "5f7fdc1c-61ce-4432-8e13-a99faacd3c6e",
   "metadata": {},
   "outputs": [
    {
     "data": {
      "text/plain": [
       "Text(0.5, 1.0, 'Gz Observed')"
      ]
     },
     "execution_count": 16,
     "metadata": {},
     "output_type": "execute_result"
    },
    {
     "data": {
      "image/png": "[encoded data removed]",
      "text/plain": [
       "<Figure size 640x480 with 1 Axes>"
      ]
     },
     "metadata": {},
     "output_type": "display_data"
    }
   ],
   "source": [
    "plt.scatter(obs_tunnel[:, 0], gz_tunnel)\n",
    "plt.errorbar(obs_tunnel[:, 0], gz_tunnel, std_tunnel, ls='')\n",
    "plt.title('Gz Observed')"
   ]
  },
  {
   "cell_type": "markdown",
   "id": "01709107-570d-4007-beb4-a282724a1a4b",
   "metadata": {},
   "source": [
    "2) You might have noticed in your previous lab that there was still a trend in your data set. We want to isolate the gravity anomaly due to the tunnels,\n",
    "    * Fit a line to your data set (`np.polynomial.Polynomial.fit()`) as a function of profile distance and processed gravity\n",
    "    * Remove that linear trend from your data set."
   ]
  },
  {
   "cell_type": "code",
   "execution_count": 17,
   "id": "0cdd642b-0cf2-41e9-af77-2d22a37d0b7c",
   "metadata": {},
   "outputs": [],
   "source": [
    "line = np.polynomial.Polynomial.fit(obs_tunnel[:, 0], gz_tunnel, deg=1)\n",
    "# Note you could also weight this by the STD... since we have it\n",
    "line_weighted = np.polynomial.Polynomial.fit(obs_tunnel[:, 0], gz_tunnel, deg=1, w=1/std_tunnel)"
   ]
  },
  {
   "cell_type": "code",
   "execution_count": 18,
   "id": "ac463e65-1209-4315-be55-b5a3ff28ba8c",
   "metadata": {},
   "outputs": [],
   "source": [
    "gz_tun_detrend = gz_tunnel - line_weighted(obs_tunnel[:, 0])"
   ]
  },
  {
   "cell_type": "code",
   "execution_count": 19,
   "id": "9253a68d-cf40-4bd2-95ce-bf2a6426c096",
   "metadata": {},
   "outputs": [
    {
     "data": {
      "text/plain": [
       "<ErrorbarContainer object of 3 artists>"
      ]
     },
     "execution_count": 19,
     "metadata": {},
     "output_type": "execute_result"
    },
    {
     "data": {
      "image/png": "[encoded data removed]",
      "text/plain": [
       "<Figure size 640x480 with 1 Axes>"
      ]
     },
     "metadata": {},
     "output_type": "display_data"
    }
   ],
   "source": [
    "plt.scatter(obs_tunnel[:, 0], gz_tun_detrend)\n",
    "plt.errorbar(obs_tunnel[:, 0], gz_tun_detrend, std_tunnel, ls='')"
   ]
  },
  {
   "cell_type": "markdown",
   "id": "910a0986-db10-43ea-b79b-a2a1d52c51e9",
   "metadata": {},
   "source": [
    "Start up the widget with this data.\n",
    "\n",
    "3) Find a model that fits your data set, and is consistent with the prior information you have about the tunnel (think the measurements you took).\n",
    "    * You can adjust the position and density contrast of the tunnel to make it fit the data!\n",
    "    * Is there a range of density contrasts that could fit your data?"
   ]
  },
  {
   "cell_type": "code",
   "execution_count": 23,
   "id": "b15cc729-a858-4afc-ad03-12e04e5ae182",
   "metadata": {},
   "outputs": [
    {
     "data": {
      "application/vnd.jupyter.widget-view+json": {
       "model_id": "ba5d801e98c14e8b89c7ad6b344be983",
       "version_major": 2,
       "version_minor": 0
      },
      "text/plain": [
       "GravInteract(children=(FigureWidget({\n",
       "    'data': [{'mode': 'lines',\n",
       "              'type': 'scatter',\n",
       "        …"
      ]
     },
     "execution_count": 23,
     "metadata": {},
     "output_type": "execute_result"
    }
   ],
   "source": [
    "modeler_tun = GravInteract(obs_tunnel, gz_tun_detrend, std_tunnel)\n",
    "# tunnel upper\n",
    "tunnel_u = np.array([\n",
    "    [-0.685, -0.30],\n",
    "    [0.685, -0.30], \n",
    "    [0.685, -2.26],\n",
    "    [-0.685, -2.26]\n",
    "])\n",
    "\n",
    "# tunnel lower\n",
    "tunnel_l = np.array([\n",
    "    [-0.683, -2.26],    \n",
    "    [-2.207, -2.26],\n",
    "    [-2.207, -4.105],\n",
    "    [-0.683, -4.105]\n",
    "])\n",
    "\n",
    "modeler_tun.set_density(-2.62)\n",
    "modeler_tun.set_polygons([tunnel_l, tunnel_u])\n",
    "modeler_tun"
   ]
  },
  {
   "cell_type": "markdown",
   "id": "85b3894e-2419-46f3-90a1-5eb4bb9b57eb",
   "metadata": {},
   "source": [
    "4) Discuss your ability to fit the data, and the quality of your recovered model in comparison to your previous knowledge of the tunnel(s)."
   ]
  },
  {
   "cell_type": "markdown",
   "id": "b2cd8ae9-1622-43ef-84ac-10c380c94e4d",
   "metadata": {},
   "source": [
    "# Deliverables\n",
    "Submit an informal report in pdf form detailing:\n",
    "1) Your name and lab title.\n",
    "1) Your three interpreted models using the `obs1.grv` data set, with a brief description of each. (Include an image of the data fit, the model, and list the locations of the polygon’s nodes).\n",
    "1) Plots showing how well your previous models fit the `obs2.grv` data, with a brief description of which models are still successful.\n",
    "1) The new model you found that better fits `obs2.grv`, and discuss the updates and show the updated data.\n",
    "1) Plots showing the model and data fit, as well as describe your chosen density contrast for the tunnel. Include the requested discussion from that section.\n",
    "1) Address the following discussion points:\n",
    "    1. How does the size of the model change as you decrease the assumed density contrast?\n",
    "    2. Based on Gauss’s law, can you predict how the product of the density contrast and the area of the polygon will change? Will it increase, remain the same, or decrease as you increase density contrast?\n",
    "    3. Can you uniquely determine the shapes of the sources that originally produced the data without knowledge of the density contrast? What if you do know the density contrast?\n",
    "7. How do the errors in the data affect your interpretation?\n"
   ]
  },
  {
   "cell_type": "code",
   "execution_count": null,
   "id": "4be67687-002e-4363-8442-61be36dfbd1c",
   "metadata": {},
   "outputs": [],
   "source": []
  }
 ],
 "metadata": {
  "kernelspec": {
   "display_name": "Python 3 (ipykernel)",
   "language": "python",
   "name": "python3"
  },
  "language_info": {
   "codemirror_mode": {
    "name": "ipython",
    "version": 3
   },
   "file_extension": ".py",
   "mimetype": "text/x-python",
   "name": "python",
   "nbconvert_exporter": "python",
   "pygments_lexer": "ipython3",
   "version": "3.12.11"
  }
 },
 "nbformat": 4,
 "nbformat_minor": 5
}
