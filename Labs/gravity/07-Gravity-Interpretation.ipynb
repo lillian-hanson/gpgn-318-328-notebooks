{
 "cells": [
  {
   "cell_type": "markdown",
   "id": "014fc98a-19dd-4083-8697-29914625d11a",
   "metadata": {
    "editable": true,
    "slideshow": {
     "slide_type": ""
    },
    "tags": []
   },
   "source": [
    "# Gravity Model fitting\n",
    "------\n",
    "* Due date: October 15, 2025"
   ]
  },
  {
   "cell_type": "markdown",
   "id": "0b15d442-c967-4d0c-82d7-a70472ddb268",
   "metadata": {
    "editable": true,
    "slideshow": {
     "slide_type": ""
    },
    "tags": []
   },
   "source": [
    "## Objectives\n",
    "Our objectives are:\n",
    "* Familiarize with, and practice, the interpretation of gravity data by a trial-and-error method of modeling.\n",
    "* Understand the ambiguity between the recovered density, geometry, and depth of a causative body during gravity interpretation when the data contain varying error levels.\n",
    "* Quantitatively interpret the gravity data you collected in the previous lab over the “possible” steam tunnel beneath the CSM campus.\n"
   ]
  },
  {
   "cell_type": "code",
   "execution_count": 1,
   "id": "bc774289-d6ee-497d-813c-d1bf4d6cd367",
   "metadata": {},
   "outputs": [],
   "source": [
    "import numpy as np\n",
    "from grav_utils.grav_interact import GravInteract\n",
    "import matplotlib.pyplot as plt\n",
    "import pandas as pd"
   ]
  },
  {
   "cell_type": "markdown",
   "id": "d6fc9a90-3e0c-4eb5-af04-78f4e94fc707",
   "metadata": {
    "editable": true,
    "slideshow": {
     "slide_type": ""
    },
    "tags": []
   },
   "source": [
    "## Background\n",
    "### Interactive Widget\n",
    "\n",
    "The gravity modelling widget you used to forward model, can also load in observed data, additionally with its standard deviation, to compare against!\n",
    "\n",
    "The controls are all the same, except that now your observation locations should be the same as your observed data locations, and you can additionally pass a data and standard deviation arrays.\n",
    "\n",
    "You should also notice that when data are loaded into it, it displays a value called \"misfit\" representing how poorly the observed and predicted data match each other (the smaller the the closer it matches the observed data). In this widget, the misfit is defined as:\n",
    "\n",
    "$$ \\frac{1}{N_d}\\sum_{i=1}^{N_d} \\left(\\frac{d_{pre,i} - d_{obs,i}}{\\sigma_i}\\right)^2$$\n",
    "\n",
    "**New**: You can also easily get and set the value of the denisty programatically with\n",
    "* `modeler.get_density()`\n",
    "* `modeler.set_density(value)`"
   ]
  },
  {
   "cell_type": "markdown",
   "id": "501f5037-b591-49ca-8941-c52735de1e4d",
   "metadata": {},
   "source": [
    "## Tasks\n"
   ]
  },
  {
   "cell_type": "markdown",
   "id": "082781be-589d-4d7c-982b-93dfa2fa3aba",
   "metadata": {},
   "source": [
    "You will be interpreting three sets of data in this lab. The first two are supplied in the data files:\n",
    "`data\\obs1.grv` and `data\\obs2.grv`. For the third data set, use the data you collected over the steam tunnel."
   ]
  },
  {
   "cell_type": "markdown",
   "id": "45b9d202-3bcb-4588-9c3b-612beecd3569",
   "metadata": {},
   "source": [
    "## Data Set 1\n"
   ]
  },
  {
   "cell_type": "markdown",
   "id": "9aca1aad-51b7-4554-9c71-2d0dff4c74d4",
   "metadata": {},
   "source": [
    "For the first part we will load in the `data/obs1.grv` csv data file using pandas"
   ]
  },
  {
   "cell_type": "code",
   "execution_count": 2,
   "id": "b9a3ad37-5549-4242-b16e-120791f408f3",
   "metadata": {
    "scrolled": true
   },
<<<<<<< HEAD
   "outputs": [
    {
     "data": {
      "text/html": [
       "<div>\n",
       "<style scoped>\n",
       "    .dataframe tbody tr th:only-of-type {\n",
       "        vertical-align: middle;\n",
       "    }\n",
       "\n",
       "    .dataframe tbody tr th {\n",
       "        vertical-align: top;\n",
       "    }\n",
       "\n",
       "    .dataframe thead th {\n",
       "        text-align: right;\n",
       "    }\n",
       "</style>\n",
       "<table border=\"1\" class=\"dataframe\">\n",
       "  <thead>\n",
       "    <tr style=\"text-align: right;\">\n",
       "      <th></th>\n",
       "      <th>Profile (m)</th>\n",
       "      <th>height (m)</th>\n",
       "      <th>G_D (mGal)</th>\n",
       "      <th>STD (mGal)</th>\n",
       "    </tr>\n",
       "  </thead>\n",
       "  <tbody>\n",
       "    <tr>\n",
       "      <th>0</th>\n",
       "      <td>-2500.0</td>\n",
       "      <td>0</td>\n",
       "      <td>0.730</td>\n",
       "      <td>0.5</td>\n",
       "    </tr>\n",
       "    <tr>\n",
       "      <th>1</th>\n",
       "      <td>-2400.0</td>\n",
       "      <td>0</td>\n",
       "      <td>0.417</td>\n",
       "      <td>0.5</td>\n",
       "    </tr>\n",
       "    <tr>\n",
       "      <th>2</th>\n",
       "      <td>-2300.0</td>\n",
       "      <td>0</td>\n",
       "      <td>0.731</td>\n",
       "      <td>0.5</td>\n",
       "    </tr>\n",
       "    <tr>\n",
       "      <th>3</th>\n",
       "      <td>-2200.0</td>\n",
       "      <td>0</td>\n",
       "      <td>0.326</td>\n",
       "      <td>0.5</td>\n",
       "    </tr>\n",
       "    <tr>\n",
       "      <th>4</th>\n",
       "      <td>-2100.0</td>\n",
       "      <td>0</td>\n",
       "      <td>0.741</td>\n",
       "      <td>0.5</td>\n",
       "    </tr>\n",
       "    <tr>\n",
       "      <th>5</th>\n",
       "      <td>-2000.0</td>\n",
       "      <td>0</td>\n",
       "      <td>0.575</td>\n",
       "      <td>0.5</td>\n",
       "    </tr>\n",
       "    <tr>\n",
       "      <th>6</th>\n",
       "      <td>-1900.0</td>\n",
       "      <td>0</td>\n",
       "      <td>0.942</td>\n",
       "      <td>0.5</td>\n",
       "    </tr>\n",
       "    <tr>\n",
       "      <th>7</th>\n",
       "      <td>-1800.0</td>\n",
       "      <td>0</td>\n",
       "      <td>0.266</td>\n",
       "      <td>0.5</td>\n",
       "    </tr>\n",
       "    <tr>\n",
       "      <th>8</th>\n",
       "      <td>-1700.0</td>\n",
       "      <td>0</td>\n",
       "      <td>1.105</td>\n",
       "      <td>0.5</td>\n",
       "    </tr>\n",
       "    <tr>\n",
       "      <th>9</th>\n",
       "      <td>-1600.0</td>\n",
       "      <td>0</td>\n",
       "      <td>0.670</td>\n",
       "      <td>0.5</td>\n",
       "    </tr>\n",
       "    <tr>\n",
       "      <th>10</th>\n",
       "      <td>-1500.0</td>\n",
       "      <td>0</td>\n",
       "      <td>0.438</td>\n",
       "      <td>0.5</td>\n",
       "    </tr>\n",
       "    <tr>\n",
       "      <th>11</th>\n",
       "      <td>-1400.0</td>\n",
       "      <td>0</td>\n",
       "      <td>1.333</td>\n",
       "      <td>0.5</td>\n",
       "    </tr>\n",
       "    <tr>\n",
       "      <th>12</th>\n",
       "      <td>-1300.0</td>\n",
       "      <td>0</td>\n",
       "      <td>0.819</td>\n",
       "      <td>0.5</td>\n",
       "    </tr>\n",
       "    <tr>\n",
       "      <th>13</th>\n",
       "      <td>-1200.0</td>\n",
       "      <td>0</td>\n",
       "      <td>1.089</td>\n",
       "      <td>0.5</td>\n",
       "    </tr>\n",
       "    <tr>\n",
       "      <th>14</th>\n",
       "      <td>-1100.0</td>\n",
       "      <td>0</td>\n",
       "      <td>1.402</td>\n",
       "      <td>0.5</td>\n",
       "    </tr>\n",
       "    <tr>\n",
       "      <th>15</th>\n",
       "      <td>-1000.0</td>\n",
       "      <td>0</td>\n",
       "      <td>1.435</td>\n",
       "      <td>0.5</td>\n",
       "    </tr>\n",
       "    <tr>\n",
       "      <th>16</th>\n",
       "      <td>-900.0</td>\n",
       "      <td>0</td>\n",
       "      <td>2.215</td>\n",
       "      <td>0.5</td>\n",
       "    </tr>\n",
       "    <tr>\n",
       "      <th>17</th>\n",
       "      <td>-800.0</td>\n",
       "      <td>0</td>\n",
       "      <td>2.636</td>\n",
       "      <td>0.5</td>\n",
       "    </tr>\n",
       "    <tr>\n",
       "      <th>18</th>\n",
       "      <td>-700.0</td>\n",
       "      <td>0</td>\n",
       "      <td>3.476</td>\n",
       "      <td>0.5</td>\n",
       "    </tr>\n",
       "    <tr>\n",
       "      <th>19</th>\n",
       "      <td>-600.0</td>\n",
       "      <td>0</td>\n",
       "      <td>3.353</td>\n",
       "      <td>0.5</td>\n",
       "    </tr>\n",
       "    <tr>\n",
       "      <th>20</th>\n",
       "      <td>-500.0</td>\n",
       "      <td>0</td>\n",
       "      <td>4.558</td>\n",
       "      <td>0.5</td>\n",
       "    </tr>\n",
       "    <tr>\n",
       "      <th>21</th>\n",
       "      <td>-400.0</td>\n",
       "      <td>0</td>\n",
       "      <td>5.031</td>\n",
       "      <td>0.5</td>\n",
       "    </tr>\n",
       "    <tr>\n",
       "      <th>22</th>\n",
       "      <td>-300.0</td>\n",
       "      <td>0</td>\n",
       "      <td>5.852</td>\n",
       "      <td>0.5</td>\n",
       "    </tr>\n",
       "    <tr>\n",
       "      <th>23</th>\n",
       "      <td>-200.0</td>\n",
       "      <td>0</td>\n",
       "      <td>6.359</td>\n",
       "      <td>0.5</td>\n",
       "    </tr>\n",
       "    <tr>\n",
       "      <th>24</th>\n",
       "      <td>-100.0</td>\n",
       "      <td>0</td>\n",
       "      <td>6.145</td>\n",
       "      <td>0.5</td>\n",
       "    </tr>\n",
       "    <tr>\n",
       "      <th>25</th>\n",
       "      <td>0.0</td>\n",
       "      <td>0</td>\n",
       "      <td>5.363</td>\n",
       "      <td>0.5</td>\n",
       "    </tr>\n",
       "    <tr>\n",
       "      <th>26</th>\n",
       "      <td>100.0</td>\n",
       "      <td>0</td>\n",
       "      <td>4.193</td>\n",
       "      <td>0.5</td>\n",
       "    </tr>\n",
       "    <tr>\n",
       "      <th>27</th>\n",
       "      <td>200.0</td>\n",
       "      <td>0</td>\n",
       "      <td>2.711</td>\n",
       "      <td>0.5</td>\n",
       "    </tr>\n",
       "    <tr>\n",
       "      <th>28</th>\n",
       "      <td>300.0</td>\n",
       "      <td>0</td>\n",
       "      <td>2.078</td>\n",
       "      <td>0.5</td>\n",
       "    </tr>\n",
       "    <tr>\n",
       "      <th>29</th>\n",
       "      <td>400.0</td>\n",
       "      <td>0</td>\n",
       "      <td>2.034</td>\n",
       "      <td>0.5</td>\n",
       "    </tr>\n",
       "    <tr>\n",
       "      <th>30</th>\n",
       "      <td>500.0</td>\n",
       "      <td>0</td>\n",
       "      <td>1.327</td>\n",
       "      <td>0.5</td>\n",
       "    </tr>\n",
       "    <tr>\n",
       "      <th>31</th>\n",
       "      <td>600.0</td>\n",
       "      <td>0</td>\n",
       "      <td>1.412</td>\n",
       "      <td>0.5</td>\n",
       "    </tr>\n",
       "    <tr>\n",
       "      <th>32</th>\n",
       "      <td>700.0</td>\n",
       "      <td>0</td>\n",
       "      <td>1.228</td>\n",
       "      <td>0.5</td>\n",
       "    </tr>\n",
       "    <tr>\n",
       "      <th>33</th>\n",
       "      <td>800.0</td>\n",
       "      <td>0</td>\n",
       "      <td>0.612</td>\n",
       "      <td>0.5</td>\n",
       "    </tr>\n",
       "    <tr>\n",
       "      <th>34</th>\n",
       "      <td>900.0</td>\n",
       "      <td>0</td>\n",
       "      <td>0.501</td>\n",
       "      <td>0.5</td>\n",
       "    </tr>\n",
       "    <tr>\n",
       "      <th>35</th>\n",
       "      <td>1000.0</td>\n",
       "      <td>0</td>\n",
       "      <td>0.807</td>\n",
       "      <td>0.5</td>\n",
       "    </tr>\n",
       "    <tr>\n",
       "      <th>36</th>\n",
       "      <td>1100.0</td>\n",
       "      <td>0</td>\n",
       "      <td>0.848</td>\n",
       "      <td>0.5</td>\n",
       "    </tr>\n",
       "    <tr>\n",
       "      <th>37</th>\n",
       "      <td>1200.0</td>\n",
       "      <td>0</td>\n",
       "      <td>0.320</td>\n",
       "      <td>0.5</td>\n",
       "    </tr>\n",
       "    <tr>\n",
       "      <th>38</th>\n",
       "      <td>1300.0</td>\n",
       "      <td>0</td>\n",
       "      <td>0.447</td>\n",
       "      <td>0.5</td>\n",
       "    </tr>\n",
       "    <tr>\n",
       "      <th>39</th>\n",
       "      <td>1400.0</td>\n",
       "      <td>0</td>\n",
       "      <td>0.555</td>\n",
       "      <td>0.5</td>\n",
       "    </tr>\n",
       "    <tr>\n",
       "      <th>40</th>\n",
       "      <td>1500.0</td>\n",
       "      <td>0</td>\n",
       "      <td>0.615</td>\n",
       "      <td>0.5</td>\n",
       "    </tr>\n",
       "    <tr>\n",
       "      <th>41</th>\n",
       "      <td>1600.0</td>\n",
       "      <td>0</td>\n",
       "      <td>0.313</td>\n",
       "      <td>0.5</td>\n",
       "    </tr>\n",
       "    <tr>\n",
       "      <th>42</th>\n",
       "      <td>1700.0</td>\n",
       "      <td>0</td>\n",
       "      <td>-0.057</td>\n",
       "      <td>0.5</td>\n",
       "    </tr>\n",
       "    <tr>\n",
       "      <th>43</th>\n",
       "      <td>1800.0</td>\n",
       "      <td>0</td>\n",
       "      <td>0.011</td>\n",
       "      <td>0.5</td>\n",
       "    </tr>\n",
       "    <tr>\n",
       "      <th>44</th>\n",
       "      <td>1900.0</td>\n",
       "      <td>0</td>\n",
       "      <td>0.596</td>\n",
       "      <td>0.5</td>\n",
       "    </tr>\n",
       "    <tr>\n",
       "      <th>45</th>\n",
       "      <td>2000.0</td>\n",
       "      <td>0</td>\n",
       "      <td>-0.153</td>\n",
       "      <td>0.5</td>\n",
       "    </tr>\n",
       "    <tr>\n",
       "      <th>46</th>\n",
       "      <td>2100.0</td>\n",
       "      <td>0</td>\n",
       "      <td>0.584</td>\n",
       "      <td>0.5</td>\n",
       "    </tr>\n",
       "    <tr>\n",
       "      <th>47</th>\n",
       "      <td>2200.0</td>\n",
       "      <td>0</td>\n",
       "      <td>-0.021</td>\n",
       "      <td>0.5</td>\n",
       "    </tr>\n",
       "    <tr>\n",
       "      <th>48</th>\n",
       "      <td>2300.0</td>\n",
       "      <td>0</td>\n",
       "      <td>-0.056</td>\n",
       "      <td>0.5</td>\n",
       "    </tr>\n",
       "    <tr>\n",
       "      <th>49</th>\n",
       "      <td>2400.0</td>\n",
       "      <td>0</td>\n",
       "      <td>-0.285</td>\n",
       "      <td>0.5</td>\n",
       "    </tr>\n",
       "    <tr>\n",
       "      <th>50</th>\n",
       "      <td>2500.0</td>\n",
       "      <td>0</td>\n",
       "      <td>0.223</td>\n",
       "      <td>0.5</td>\n",
       "    </tr>\n",
       "  </tbody>\n",
       "</table>\n",
       "</div>"
      ],
      "text/plain": [
       "    Profile (m)  height (m)  G_D (mGal)  STD (mGal)\n",
       "0       -2500.0           0       0.730         0.5\n",
       "1       -2400.0           0       0.417         0.5\n",
       "2       -2300.0           0       0.731         0.5\n",
       "3       -2200.0           0       0.326         0.5\n",
       "4       -2100.0           0       0.741         0.5\n",
       "5       -2000.0           0       0.575         0.5\n",
       "6       -1900.0           0       0.942         0.5\n",
       "7       -1800.0           0       0.266         0.5\n",
       "8       -1700.0           0       1.105         0.5\n",
       "9       -1600.0           0       0.670         0.5\n",
       "10      -1500.0           0       0.438         0.5\n",
       "11      -1400.0           0       1.333         0.5\n",
       "12      -1300.0           0       0.819         0.5\n",
       "13      -1200.0           0       1.089         0.5\n",
       "14      -1100.0           0       1.402         0.5\n",
       "15      -1000.0           0       1.435         0.5\n",
       "16       -900.0           0       2.215         0.5\n",
       "17       -800.0           0       2.636         0.5\n",
       "18       -700.0           0       3.476         0.5\n",
       "19       -600.0           0       3.353         0.5\n",
       "20       -500.0           0       4.558         0.5\n",
       "21       -400.0           0       5.031         0.5\n",
       "22       -300.0           0       5.852         0.5\n",
       "23       -200.0           0       6.359         0.5\n",
       "24       -100.0           0       6.145         0.5\n",
       "25          0.0           0       5.363         0.5\n",
       "26        100.0           0       4.193         0.5\n",
       "27        200.0           0       2.711         0.5\n",
       "28        300.0           0       2.078         0.5\n",
       "29        400.0           0       2.034         0.5\n",
       "30        500.0           0       1.327         0.5\n",
       "31        600.0           0       1.412         0.5\n",
       "32        700.0           0       1.228         0.5\n",
       "33        800.0           0       0.612         0.5\n",
       "34        900.0           0       0.501         0.5\n",
       "35       1000.0           0       0.807         0.5\n",
       "36       1100.0           0       0.848         0.5\n",
       "37       1200.0           0       0.320         0.5\n",
       "38       1300.0           0       0.447         0.5\n",
       "39       1400.0           0       0.555         0.5\n",
       "40       1500.0           0       0.615         0.5\n",
       "41       1600.0           0       0.313         0.5\n",
       "42       1700.0           0      -0.057         0.5\n",
       "43       1800.0           0       0.011         0.5\n",
       "44       1900.0           0       0.596         0.5\n",
       "45       2000.0           0      -0.153         0.5\n",
       "46       2100.0           0       0.584         0.5\n",
       "47       2200.0           0      -0.021         0.5\n",
       "48       2300.0           0      -0.056         0.5\n",
       "49       2400.0           0      -0.285         0.5\n",
       "50       2500.0           0       0.223         0.5"
      ]
     },
     "execution_count": 2,
     "metadata": {},
     "output_type": "execute_result"
    }
   ],
   "source": [
    "dat1_frame = pd.read_csv('07-lab/data/obs1.grv')\n",
    "dat1_frame"
=======
   "outputs": [],
   "source": [
    "dat1_frame = pd.read_csv('data/obs1.grv')"
>>>>>>> 06d3dc316508ef2568bf1a6aec9ced0b67b37ebd
   ]
  },
  {
   "cell_type": "markdown",
   "id": "ade9fd58-9636-4598-8f9c-85902c681795",
   "metadata": {},
   "source": [
    "Then to make it a little clearer for the inputs to the modeler, let's collect the values of interest into there own variables."
   ]
  },
  {
   "cell_type": "code",
   "execution_count": 3,
   "id": "2847da93-8f37-4369-abe4-ac62d625a03f",
   "metadata": {},
   "outputs": [],
   "source": [
    "obs1 = np.c_[dat1_frame['Profile (m)'], dat1_frame['height (m)']]\n",
    "dat1 = dat1_frame['G_D (mGal)']\n",
    "std1 = dat1_frame['STD (mGal)']"
   ]
  },
  {
   "cell_type": "markdown",
   "id": "1b46640a-2afa-4fd2-a777-37f5e8b32e35",
   "metadata": {},
   "source": [
    "And finally pass it to the modeler.\n",
    "\n",
    "\n",
    "### Question 1: \n",
    "Based on the responses you saw in previous labs, what do you think the model is?"
   ]
  },
  {
   "cell_type": "code",
   "execution_count": 4,
   "id": "1f7b5e3a-63c2-482d-8e7d-488364f76909",
<<<<<<< HEAD
   "metadata": {
    "scrolled": true
   },
=======
   "metadata": {},
>>>>>>> 06d3dc316508ef2568bf1a6aec9ced0b67b37ebd
   "outputs": [
    {
     "data": {
      "application/vnd.jupyter.widget-view+json": {
<<<<<<< HEAD
       "model_id": "7bbaaf0943564e1088b140d0c24c94f8",
=======
       "model_id": "d13f6ca3cb8e4bb3a995046129d9cb03",
>>>>>>> 06d3dc316508ef2568bf1a6aec9ced0b67b37ebd
       "version_major": 2,
       "version_minor": 0
      },
      "text/plain": [
       "GravInteract(children=(FigureWidget({\n",
       "    'data': [{'mode': 'lines',\n",
       "              'type': 'scatter',\n",
       "        …"
      ]
     },
     "execution_count": 4,
     "metadata": {},
     "output_type": "execute_result"
    }
   ],
   "source": [
    "modeler = GravInteract(obs1, dat1, std1)\n",
<<<<<<< HEAD
    "modeler.set_density(1.4)\n",
    "modeler.set_polygons([[[-256.84434572207124, -125.76539261087817], [-61.90051105849918, -132.66794099839865], [-97.18910794264292, -311.0828392257332], [-151.0761380890583, -625.7769278553957], [-4.8113419773583965, -825.3390328400601], [-551.3797906052896, -671.829721313395], [-297.34093420075817, -479.9430819050642], [-235.7557568905689, -364.8110982600657]]])\n",
=======
>>>>>>> 06d3dc316508ef2568bf1a6aec9ced0b67b37ebd
    "modeler"
   ]
  },
  {
   "cell_type": "markdown",
   "id": "8aa8f4ef-53a6-4b30-baa0-7e94c8cab234",
   "metadata": {},
   "source": [
    "### Question 2:\n",
    "Now begin the process of trial-and-error modeling to interpret the data set and find three different polygons that each fit the data to within their standard deviations/ Remember to save the polygon models so you can reload them later, either with the `modeler.get_polygons()` and `modeler.load_polygons()` methods, or the save and load buttons on the widget. You can also get and set the density with `modeler.set_density()` and `modeler.get_density()`."
   ]
  },
  {
   "cell_type": "markdown",
   "id": "6572481d-ac1d-43ba-96be-8dc7c6c06d67",
   "metadata": {},
   "source": [
<<<<<<< HEAD
    "1) Find a dipping slab with four vertices and a density contrast of 1.0 g/cc\n",
    "\n",
    "[array([[-300.27222688, -177.66293216],\n",
    "        [ 154.43640062, -159.76517311],\n",
    "        [-240.44214431, -696.69794465],\n",
    "        [-509.67751586, -428.23155888]])]"
   ]
  },
  {
   "cell_type": "code",
   "execution_count": 5,
   "id": "ae08f37a-d0a5-412d-a27e-8760b1fbdea4",
   "metadata": {},
   "outputs": [
    {
     "data": {
      "text/plain": [
       "[array([[-256.84434572, -125.76539261],\n",
       "        [ -61.90051106, -132.667941  ],\n",
       "        [ -97.18910794, -311.08283923],\n",
       "        [-151.07613809, -625.77692786],\n",
       "        [  -4.81134198, -825.33903284],\n",
       "        [-551.37979061, -671.82972131],\n",
       "        [-297.3409342 , -479.94308191],\n",
       "        [-235.75575689, -364.81109826]])]"
      ]
     },
     "execution_count": 5,
     "metadata": {},
     "output_type": "execute_result"
    }
   ],
   "source": [
    "modeler.get_polygons()"
=======
    "1) Find a dipping slab with four vertices and a density contrast of 1.0 g/cc"
>>>>>>> 06d3dc316508ef2568bf1a6aec9ced0b67b37ebd
   ]
  },
  {
   "cell_type": "markdown",
   "id": "0de91638-93f5-4b9f-9d63-a5b715a4bfd3",
   "metadata": {},
   "source": [
<<<<<<< HEAD
    "2) Find a similar body with a density contrast of 0.6 g/cc, with a few more vertices (Likely starting from your model in part 1)\n",
    " [array([[ -470.82417211,  -195.83378986],\n",
    "        [ -108.78562202,   -70.8819954 ],\n",
    "        [   51.34681359,  -299.96028525],\n",
    "        [   37.42225398,  -681.75743501],\n",
    "        [  -80.93650278,  -772.00039768],\n",
    "        [   65.27137321, -1237.09874375],\n",
    "        [ -164.4838605 ,  -855.30159399],\n",
    "        [ -394.23909421,  -494.32974331]])]"
=======
    "2) Find a similar body with a density contrast of 0.6 g/cc, with a few more vertices (Likely starting from your model in part 1)"
>>>>>>> 06d3dc316508ef2568bf1a6aec9ced0b67b37ebd
   ]
  },
  {
   "cell_type": "markdown",
   "id": "0b801939-0e35-492b-8280-fa130d61b4a7",
   "metadata": {},
   "source": [
    "3) Find a model that has a density of 1.4 g/cc and a flat top."
   ]
  },
  {
   "cell_type": "markdown",
   "id": "eaf7093f-f74a-4ec1-b0f2-a6855d735c6b",
   "metadata": {
    "jp-MarkdownHeadingCollapsed": true
   },
   "source": [
    "**note**: For each of these cases, you should aim to get your data misfit close to 1.\n",
    "Also, it could be helpful to create a new widget for each part of this question (with different variable names so they don't clobber each other)"
   ]
  },
  {
   "cell_type": "markdown",
   "id": "33cec1d4-f4af-4f24-bba6-de8c11888e4b",
   "metadata": {},
   "source": [
    "## Data Set 2\n"
   ]
  },
  {
   "cell_type": "markdown",
   "id": "18cb8332-a351-4cea-ba3f-9c810df1ae8b",
   "metadata": {},
   "source": [
    "For the second part we will load in the `data/obs2.grv` csv data file using pandas. You should notice that these data look similar to **Data Set 2**, but have a much lower standard deviation."
   ]
  },
  {
   "cell_type": "code",
<<<<<<< HEAD
   "execution_count": 7,
=======
   "execution_count": 5,
>>>>>>> 06d3dc316508ef2568bf1a6aec9ced0b67b37ebd
   "id": "d6a18679-c7d7-43c8-bc0e-33b41b0f70c8",
   "metadata": {
    "scrolled": true
   },
   "outputs": [],
   "source": [
<<<<<<< HEAD
    "dat2_frame = pd.read_csv('07-lab/data/obs2.grv')\n",
    "obs2= np.c_[dat2_frame['Profile (m)'], dat2_frame['height (m)']]\n",
    "dat2 = dat2_frame['G_D (mGal)']\n",
=======
    "dat2_frame = pd.read_csv('data/obs2.grv')\n",
    "obs2= np.c_[dat2_frame['Profile (m)'], dat2_frame['height (m)']]\n",
    "dat2c= dat2_frame['G_D (mGal)']\n",
>>>>>>> 06d3dc316508ef2568bf1a6aec9ced0b67b37ebd
    "std2 = dat2_frame['STD (mGal)']"
   ]
  },
  {
   "cell_type": "code",
<<<<<<< HEAD
   "execution_count": 13,
=======
   "execution_count": 6,
>>>>>>> 06d3dc316508ef2568bf1a6aec9ced0b67b37ebd
   "id": "ca06bd0e-b216-4729-a5ff-b6c37ac31c0e",
   "metadata": {},
   "outputs": [
    {
     "data": {
      "application/vnd.jupyter.widget-view+json": {
<<<<<<< HEAD
       "model_id": "8fba88d45ea547058b0f7b91acc3de31",
=======
       "model_id": "11efcbc02dd347aabd33e0b78d72d3d8",
>>>>>>> 06d3dc316508ef2568bf1a6aec9ced0b67b37ebd
       "version_major": 2,
       "version_minor": 0
      },
      "text/plain": [
       "GravInteract(children=(FigureWidget({\n",
       "    'data': [{'mode': 'lines',\n",
       "              'type': 'scatter',\n",
       "        …"
      ]
     },
<<<<<<< HEAD
     "execution_count": 13,
=======
     "execution_count": 6,
>>>>>>> 06d3dc316508ef2568bf1a6aec9ced0b67b37ebd
     "metadata": {},
     "output_type": "execute_result"
    }
   ],
   "source": [
<<<<<<< HEAD
    "modeler_part2 = GravInteract(obs2, dat2, std2)\n",
    "modeler_part2.set_polygons([[[-485.59968176203824, -322.85232112398467], [-352.46541535154785, -304.662819291446], [-153.4989348530242, -229.1384752742644], [-153.4989348530242, -79.19632191471216], [128.47339742821424, -122.9294499779148], [-122.1686757106641, -347.84268001724314], [-166.1749298744312, -528.6595709708564], [-291.35207507940703, -622.7366278430892], [-316.41628239329503, -891.3829859456202], [-598.3886146745335, -710.2028839694947]]])\n",
=======
    "modeler_part2 = GravInteract(obs1, dat1, std1)\n",
>>>>>>> 06d3dc316508ef2568bf1a6aec9ced0b67b37ebd
    "modeler_part2"
   ]
  },
  {
   "cell_type": "markdown",
   "id": "4e0ec78a-73cd-4308-a61f-fc3db4ffb6ba",
   "metadata": {},
   "source": [
    "### Question 3\n",
    "1) Input the three models you found in the previous question (part 2), are they still acceptable models? Discuss why or why not.\n",
<<<<<<< HEAD
    "   - Q2-1: Misfit 8.640\n",
    "   - Q2-2: Misfit 95.164\n",
    "   - Q2-3: Misfit 54.719\n",
=======
>>>>>>> 06d3dc316508ef2568bf1a6aec9ced0b67b37ebd
    "2) Pick one of the cases that is not acceptable, and find a new model that fits the data. Discuss the difference between the model derived for the `obs1.grv` data, and this model.\n"
   ]
  },
  {
   "cell_type": "markdown",
   "id": "1922aa4e-3eb1-4251-9c5c-e4778dbab43b",
   "metadata": {},
   "source": [
    "## Tunnel data\n",
    "Now that you are hopefully comfortable with the process of trial-and-error modeling, lets attempt it with the data you collected over the tunnel.\n",
    "\n",
    "1) Read in the processed gravity data (drift, free-air, and simple Bouguer corrected).\n",
    "    * You will also need the *profile distance*, and height of each observation point.\n",
    "\n",
    "**Note** you should read in your own data, the 2024 data is provided as an example"
   ]
  },
  {
   "cell_type": "code",
<<<<<<< HEAD
   "execution_count": 14,
   "id": "846bce6e-f52f-4bd9-9e5c-8da75e5e158b",
   "metadata": {},
   "outputs": [],
   "source": [
    "#load in code from lab 6\n",
    "\n",
    "column_names = [\n",
    "    \"LINE\",\"STATION\",\"ALT\",\"GRAV\",\"SD\",\"TILTX\",\"TILTY\",\"TEMP\",\"TIDE\",\n",
    "    \"DUR\",\"REJ\",\"TIME\",\"DEC_TIME_DATE\",\"TERRAIN\",\"DATE\"\n",
    "]\n",
    "\n",
    "dfcg5 = pd.read_csv('06-lab/data/grp2/CG5-2.TXT', sep=r'\\s+', skiprows=52, header=None, names=column_names)\n",
    "\n",
    "loc_data = pd.read_csv('06-lab/data/grp2/grp2-lab6.csv')\n",
    "locdf = loc_data\n",
    "\n",
    "loccols = ['STATION', 'Northing', 'Easting', 'ELEV', 'Notes']\n",
    "locdf.columns = loccols[:len(locdf.columns)]\n",
    "\n",
    "for col in ['Northing', 'Easting', 'ELEV']:\n",
    "    if col in locdf.columns:\n",
    "        locdf[col] = pd.to_numeric(locdf[col], errors = 'coerce')\n",
    "locdf = locdf.drop(index = 15)\n",
    "\n",
    "reorder = locdf.iloc[33:34]\n",
    "locdf = locdf.drop(index = 34)\n",
    "locdf_top = locdf.iloc[:24]\n",
    "locdf_bottom = locdf.iloc[24:]\n",
    "\n",
    "locdf = pd.concat([locdf_top, reorder, locdf_bottom]).reset_index(drop=True)\n",
    "\n",
    "# clean columns\n",
    "dfcg5['STATION'] = dfcg5['STATION'].astype(str).str.strip()\n",
    "locdf['STATION'] = locdf['STATION'].astype(str).str.strip()\n",
    "\n",
    "dfcg5['STATION_NUM'] = pd.to_numeric(dfcg5['STATION'], errors='coerce')\n",
    "locdf['STATION_NUM'] = pd.to_numeric(locdf['STATION'], errors='coerce')\n",
    "\n",
    "# merge data frames\n",
    "df = pd.merge(dfcg5, locdf[['STATION_NUM', 'Northing', 'Easting', 'ELEV']],\n",
    "              on='STATION_NUM', how='left')\n",
    "\n",
    "df = df[['STATION_NUM', 'GRAV', 'Northing', 'Easting', 'TIME', 'ELEV', 'SD']]\n",
    "df = df.sort_values('STATION_NUM')"
   ]
  },
  {
   "cell_type": "code",
   "execution_count": 15,
=======
   "execution_count": 7,
>>>>>>> 06d3dc316508ef2568bf1a6aec9ced0b67b37ebd
   "id": "4c69b070-1bc9-4a51-b096-c4e52723d5e2",
   "metadata": {},
   "outputs": [],
   "source": [
<<<<<<< HEAD
    "\n",
    "dat_tunnel_frame = df\n",
    "obs_tun_x = dat_tunnel_frame['STATION_NUM']\n",
    "obs_tun_z = dat_tunnel_frame['ELEV']\n",
=======
    "dat_tunnel_frame = pd.read_csv('data/obs_2024_tunnel.csv')\n",
    "obs_tun_x = dat_tunnel_frame['Profile distance (m)']\n",
    "obs_tun_z = dat_tunnel_frame['Elevations (m)']\n",
>>>>>>> 06d3dc316508ef2568bf1a6aec9ced0b67b37ebd
    "\n",
    "# Note I'm subtracting the elevation at the base station here\n",
    "# So I'm not working with elevations on the order of 1741...\n",
    "obs_tunnel = np.c_[obs_tun_x, obs_tun_z-obs_tun_z[20]]\n",
<<<<<<< HEAD
    "gz_tunnel = dat_tunnel_frame['GRAV']\n",
    "std_tunnel = dat_tunnel_frame['SD']"
=======
    "gz_tunnel = dat_tunnel_frame['G_D (mGal)']\n",
    "std_tunnel = dat_tunnel_frame['STD']"
>>>>>>> 06d3dc316508ef2568bf1a6aec9ced0b67b37ebd
   ]
  },
  {
   "cell_type": "code",
<<<<<<< HEAD
   "execution_count": 16,
=======
   "execution_count": 8,
>>>>>>> 06d3dc316508ef2568bf1a6aec9ced0b67b37ebd
   "id": "5f7fdc1c-61ce-4432-8e13-a99faacd3c6e",
   "metadata": {},
   "outputs": [
    {
     "data": {
      "text/plain": [
       "Text(0.5, 1.0, 'Gz Observed')"
      ]
     },
<<<<<<< HEAD
     "execution_count": 16,
=======
     "execution_count": 8,
>>>>>>> 06d3dc316508ef2568bf1a6aec9ced0b67b37ebd
     "metadata": {},
     "output_type": "execute_result"
    },
    {
     "data": {
<<<<<<< HEAD
      "image/png": "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",
=======
      "image/png": "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",
>>>>>>> 06d3dc316508ef2568bf1a6aec9ced0b67b37ebd
      "text/plain": [
       "<Figure size 640x480 with 1 Axes>"
      ]
     },
     "metadata": {},
     "output_type": "display_data"
    }
   ],
   "source": [
    "plt.scatter(obs_tunnel[:, 0], gz_tunnel)\n",
    "plt.errorbar(obs_tunnel[:, 0], gz_tunnel, std_tunnel, ls='')\n",
    "plt.title('Gz Observed')"
   ]
  },
  {
   "cell_type": "markdown",
   "id": "01709107-570d-4007-beb4-a282724a1a4b",
   "metadata": {},
   "source": [
    "2) You might have noticed in your previous lab that there was still a trend in your data set. We want to isolate the gravity anomaly due to the tunnels,\n",
    "    * Fit a line to your data set (`np.polynomial.Polynomial.fit()`) as a function of profile distance and processed gravity\n",
    "    * Remove that linear trend from your data set."
   ]
  },
  {
   "cell_type": "code",
<<<<<<< HEAD
   "execution_count": 17,
=======
   "execution_count": 9,
>>>>>>> 06d3dc316508ef2568bf1a6aec9ced0b67b37ebd
   "id": "0cdd642b-0cf2-41e9-af77-2d22a37d0b7c",
   "metadata": {},
   "outputs": [],
   "source": [
    "line = np.polynomial.Polynomial.fit(obs_tunnel[:, 0], gz_tunnel, deg=1)\n",
    "# Note you could also weight this by the STD... since we have it\n",
    "line_weighted = np.polynomial.Polynomial.fit(obs_tunnel[:, 0], gz_tunnel, deg=1, w=1/std_tunnel)"
   ]
  },
  {
   "cell_type": "code",
<<<<<<< HEAD
   "execution_count": 18,
=======
   "execution_count": 10,
>>>>>>> 06d3dc316508ef2568bf1a6aec9ced0b67b37ebd
   "id": "ac463e65-1209-4315-be55-b5a3ff28ba8c",
   "metadata": {},
   "outputs": [],
   "source": [
    "gz_tun_detrend = gz_tunnel - line_weighted(obs_tunnel[:, 0])"
   ]
  },
  {
   "cell_type": "code",
<<<<<<< HEAD
   "execution_count": 19,
=======
   "execution_count": 11,
>>>>>>> 06d3dc316508ef2568bf1a6aec9ced0b67b37ebd
   "id": "9253a68d-cf40-4bd2-95ce-bf2a6426c096",
   "metadata": {},
   "outputs": [
    {
     "data": {
      "text/plain": [
       "<ErrorbarContainer object of 3 artists>"
      ]
     },
<<<<<<< HEAD
     "execution_count": 19,
=======
     "execution_count": 11,
>>>>>>> 06d3dc316508ef2568bf1a6aec9ced0b67b37ebd
     "metadata": {},
     "output_type": "execute_result"
    },
    {
     "data": {
<<<<<<< HEAD
      "image/png": "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",
=======
      "image/png": "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",
>>>>>>> 06d3dc316508ef2568bf1a6aec9ced0b67b37ebd
      "text/plain": [
       "<Figure size 640x480 with 1 Axes>"
      ]
     },
     "metadata": {},
     "output_type": "display_data"
    }
   ],
   "source": [
    "plt.scatter(obs_tunnel[:, 0], gz_tun_detrend)\n",
    "plt.errorbar(obs_tunnel[:, 0], gz_tun_detrend, std_tunnel, ls='')"
   ]
  },
  {
   "cell_type": "markdown",
   "id": "910a0986-db10-43ea-b79b-a2a1d52c51e9",
   "metadata": {},
   "source": [
    "Start up the widget with this data.\n",
    "\n",
    "3) Find a model that fits your data set, and is consistent with the prior information you have about the tunnel (think the measurements you took).\n",
    "    * You can adjust the position and density contrast of the tunnel to make it fit the data!\n",
    "    * Is there a range of density contrasts that could fit your data?"
   ]
  },
  {
   "cell_type": "code",
<<<<<<< HEAD
   "execution_count": 23,
=======
   "execution_count": 12,
>>>>>>> 06d3dc316508ef2568bf1a6aec9ced0b67b37ebd
   "id": "b15cc729-a858-4afc-ad03-12e04e5ae182",
   "metadata": {},
   "outputs": [
    {
     "data": {
      "application/vnd.jupyter.widget-view+json": {
<<<<<<< HEAD
       "model_id": "ba5d801e98c14e8b89c7ad6b344be983",
=======
       "model_id": "c9d2b1cbceb4493e90d8c8393cd72e4e",
>>>>>>> 06d3dc316508ef2568bf1a6aec9ced0b67b37ebd
       "version_major": 2,
       "version_minor": 0
      },
      "text/plain": [
       "GravInteract(children=(FigureWidget({\n",
       "    'data': [{'mode': 'lines',\n",
       "              'type': 'scatter',\n",
       "        …"
      ]
     },
<<<<<<< HEAD
     "execution_count": 23,
=======
     "execution_count": 12,
>>>>>>> 06d3dc316508ef2568bf1a6aec9ced0b67b37ebd
     "metadata": {},
     "output_type": "execute_result"
    }
   ],
   "source": [
    "modeler_tun = GravInteract(obs_tunnel, gz_tun_detrend, std_tunnel)\n",
<<<<<<< HEAD
    "# tunnel upper\n",
    "tunnel_u = np.array([\n",
    "    [-0.685, -0.30],\n",
    "    [0.685, -0.30], \n",
    "    [0.685, -2.26],\n",
    "    [-0.685, -2.26]\n",
    "])\n",
    "\n",
    "# tunnel lower\n",
    "tunnel_l = np.array([\n",
    "    [-0.683, -2.26],    \n",
    "    [-2.207, -2.26],\n",
    "    [-2.207, -4.105],\n",
    "    [-0.683, -4.105]\n",
    "])\n",
    "\n",
    "modeler_tun.set_density(-2.62)\n",
    "modeler_tun.set_polygons([tunnel_l, tunnel_u])\n",
=======
>>>>>>> 06d3dc316508ef2568bf1a6aec9ced0b67b37ebd
    "modeler_tun"
   ]
  },
  {
   "cell_type": "markdown",
   "id": "85b3894e-2419-46f3-90a1-5eb4bb9b57eb",
   "metadata": {},
   "source": [
    "4) Discuss your ability to fit the data, and the quality of your recovered model in comparison to your previous knowledge of the tunnel(s)."
   ]
  },
  {
   "cell_type": "markdown",
   "id": "b2cd8ae9-1622-43ef-84ac-10c380c94e4d",
   "metadata": {},
   "source": [
    "# Deliverables\n",
    "Submit an informal report in pdf form detailing:\n",
    "1) Your name and lab title.\n",
    "1) Your three interpreted models using the `obs1.grv` data set, with a brief description of each. (Include an image of the data fit, the model, and list the locations of the polygon’s nodes).\n",
    "1) Plots showing how well your previous models fit the `obs2.grv` data, with a brief description of which models are still successful.\n",
    "1) The new model you found that better fits `obs2.grv`, and discuss the updates and show the updated data.\n",
    "1) Plots showing the model and data fit, as well as describe your chosen density contrast for the tunnel. Include the requested discussion from that section.\n",
    "1) Address the following discussion points:\n",
    "    1. How does the size of the model change as you decrease the assumed density contrast?\n",
    "    2. Based on Gauss’s law, can you predict how the product of the density contrast and the area of the polygon will change? Will it increase, remain the same, or decrease as you increase density contrast?\n",
    "    3. Can you uniquely determine the shapes of the sources that originally produced the data without knowledge of the density contrast? What if you do know the density contrast?\n",
<<<<<<< HEAD
    "7. How do the errors in the data affect your interpretation?\n"
=======
    "4. How do the errors in the data affect your interpretation?\n"
>>>>>>> 06d3dc316508ef2568bf1a6aec9ced0b67b37ebd
   ]
  },
  {
   "cell_type": "code",
   "execution_count": null,
   "id": "4be67687-002e-4363-8442-61be36dfbd1c",
   "metadata": {},
   "outputs": [],
   "source": []
  }
 ],
 "metadata": {
  "kernelspec": {
   "display_name": "Python 3 (ipykernel)",
   "language": "python",
   "name": "python3"
  },
  "language_info": {
   "codemirror_mode": {
    "name": "ipython",
    "version": 3
   },
   "file_extension": ".py",
   "mimetype": "text/x-python",
   "name": "python",
   "nbconvert_exporter": "python",
   "pygments_lexer": "ipython3",
   "version": "3.12.11"
  }
 },
 "nbformat": 4,
 "nbformat_minor": 5
}
