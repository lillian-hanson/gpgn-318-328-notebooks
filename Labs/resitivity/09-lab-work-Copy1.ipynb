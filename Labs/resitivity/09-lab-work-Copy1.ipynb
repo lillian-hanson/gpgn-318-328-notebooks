{
 "cells": [
  {
   "cell_type": "code",
   "execution_count": 1,
   "id": "1cbe78f9-fcf5-4afb-a268-7fe99d9902fb",
   "metadata": {},
   "outputs": [],
   "source": [
    "from dc_utils.dc_sounding import DCSoundingInteract\n",
    "import numpy as np\n",
    "import pandas as pd"
   ]
  },
  {
   "cell_type": "code",
   "execution_count": 2,
   "id": "3463c02e-d0ba-4b09-81f7-5be2cb28c431",
   "metadata": {},
   "outputs": [],
   "source": [
    "example_locs = pd.read_csv('data/lab03_positions.csv')\n",
    "A_ex = example_locs['A']\n",
    "B_ex = example_locs['B']\n",
    "M_ex = example_locs['M']\n",
    "N_ex = example_locs['N']"
   ]
  },
  {
   "cell_type": "code",
   "execution_count": 3,
   "id": "84914747-5cb0-412a-85f4-eac25c6443b7",
   "metadata": {},
   "outputs": [],
   "source": [
    "# play_interactor.get_data()\n",
    "\n",
    "# thick, cond = play_interactor.get_model()\n",
    "# thick, cond"
   ]
  },
  {
   "cell_type": "markdown",
   "id": "1985c4ce-bdd4-46a7-b607-2333e6480b0c",
   "metadata": {},
   "source": [
    "# Forward Modeling"
   ]
  },
  {
   "cell_type": "markdown",
   "id": "bf206ff0-1d48-465f-9055-826ef20abb82",
   "metadata": {},
   "source": [
    "## Task 1"
   ]
  },
  {
   "cell_type": "code",
   "execution_count": 4,
   "id": "d2ad6402-651e-417d-837c-12d35a8517a4",
   "metadata": {},
   "outputs": [
    {
     "data": {
      "application/vnd.jupyter.widget-view+json": {
       "model_id": "0908b29c5370495289e7e22556ce7609",
       "version_major": 2,
       "version_minor": 0
      },
      "text/plain": [
       "DCSoundingInteract(children=(HBox(children=(Box(children=(ConductivityModelCanvas(children=(HBox(children=(But…"
      ]
     },
     "execution_count": 4,
     "metadata": {},
     "output_type": "execute_result"
    }
   ],
   "source": [
    "inter_1a = DCSoundingInteract(A_ex, B_ex, M_ex, N_ex)\n",
    "\n",
    "thick_inter1a = [10]\n",
    "cond_inter1a = [0.02, 0.01]\n",
    "\n",
    "inter_1a.set_model(thick_inter1a, cond_inter1a)\n",
    "inter_1a"
   ]
  },
  {
   "cell_type": "code",
   "execution_count": 5,
   "id": "33e0f171-9455-4571-b943-23ba8767ae88",
   "metadata": {},
   "outputs": [
    {
     "data": {
      "application/vnd.jupyter.widget-view+json": {
       "model_id": "3ad2145acf5a4f85b41bccc01a46eb3f",
       "version_major": 2,
       "version_minor": 0
      },
      "text/plain": [
       "DCSoundingInteract(children=(HBox(children=(Box(children=(ConductivityModelCanvas(children=(HBox(children=(But…"
      ]
     },
     "execution_count": 5,
     "metadata": {},
     "output_type": "execute_result"
    }
   ],
   "source": [
    "inter_1b = DCSoundingInteract(A_ex, B_ex, M_ex, N_ex)\n",
    "\n",
    "thick_inter1b = [10]\n",
    "cond_inter1b = [0.01, 0.02]\n",
    "\n",
    "inter_1b.set_model(thick_inter1b, cond_inter1b)\n",
    "inter_1b"
   ]
  },
  {
   "cell_type": "code",
   "execution_count": 25,
   "id": "abf7d350-583b-4c4a-872c-86b8b2314e5e",
   "metadata": {},
   "outputs": [
    {
     "data": {
      "application/vnd.jupyter.widget-view+json": {
       "model_id": "b7ac626657724298aeea415a72f36db0",
       "version_major": 2,
       "version_minor": 0
      },
      "text/plain": [
       "DCSoundingInteract(children=(HBox(children=(Box(children=(ConductivityModelCanvas(children=(HBox(children=(But…"
      ]
     },
     "execution_count": 25,
     "metadata": {},
     "output_type": "execute_result"
    }
   ],
   "source": [
    "inter_1c = DCSoundingInteract(A_ex, B_ex, M_ex, N_ex)\n",
    "\n",
    "thick_inter1c = [10,0.1]\n",
    "cond_inter1c = [0.02, 0.001,0.1]\n",
    "\n",
    "inter_1c.set_model(thick_inter1c, cond_inter1c)\n",
    "inter_1c"
   ]
  },
  {
   "cell_type": "code",
   "execution_count": 7,
   "id": "47e3ca60-7ac2-408d-b9a0-7f26a2961cd4",
   "metadata": {},
   "outputs": [
    {
     "data": {
      "application/vnd.jupyter.widget-view+json": {
       "model_id": "38ced20811b74a5faa93f05685412f41",
       "version_major": 2,
       "version_minor": 0
      },
      "text/plain": [
       "DCSoundingInteract(children=(HBox(children=(Box(children=(ConductivityModelCanvas(children=(HBox(children=(But…"
      ]
     },
     "execution_count": 7,
     "metadata": {},
     "output_type": "execute_result"
    }
   ],
   "source": [
    "inter_1d = DCSoundingInteract(A_ex, B_ex, M_ex, N_ex)\n",
    "\n",
    "thick_inter1d = [10,20]\n",
    "cond_inter1d = [0.02, 0.1, 0.01]\n",
    "\n",
    "inter_1d.set_model(thick_inter1d, cond_inter1d)\n",
    "inter_1d"
   ]
  },
  {
   "cell_type": "code",
   "execution_count": 46,
   "id": "eb7e955a-d9bc-482e-ade9-bdfb039af59d",
   "metadata": {},
   "outputs": [
    {
     "data": {
      "application/vnd.jupyter.widget-view+json": {
       "model_id": "f027fb5fd57043868702cacae4452242",
       "version_major": 2,
       "version_minor": 0
      },
      "text/plain": [
       "DCSoundingInteract(children=(HBox(children=(Box(children=(ConductivityModelCanvas(children=(HBox(children=(But…"
      ]
     },
     "execution_count": 46,
     "metadata": {},
     "output_type": "execute_result"
    }
   ],
   "source": [
    "inter_2c = DCSoundingInteract(A_ex, B_ex, M_ex, N_ex)\n",
    "\n",
    "thick_inter2c = [10,7]\n",
    "cond_inter2c = [0.02, 0.01,0.2]\n",
    "\n",
    "inter_2c.set_model(thick_inter2c, cond_inter2c)\n",
    "inter_2c"
   ]
  },
  {
   "cell_type": "code",
   "execution_count": 43,
   "id": "dd46319d-14f5-496f-a4c6-c3290871eb13",
   "metadata": {},
   "outputs": [
    {
     "data": {
      "text/plain": [
       "[10, 7]"
      ]
     },
     "execution_count": 43,
     "metadata": {},
     "output_type": "execute_result"
    }
   ],
   "source": [
    "thick_2c, cond_2c = inter_2c.get_model()\n",
    "thick_2c"
   ]
  },
  {
   "cell_type": "code",
   "execution_count": 56,
   "id": "63afc68e-3fd0-48bd-9dfc-33e7eed16635",
   "metadata": {},
   "outputs": [
    {
     "data": {
      "application/vnd.jupyter.widget-view+json": {
       "model_id": "2dd6fb4efe3c4b8bb43ff468ae2c99af",
       "version_major": 2,
       "version_minor": 0
      },
      "text/plain": [
       "DCSoundingInteract(children=(HBox(children=(Box(children=(ConductivityModelCanvas(children=(HBox(children=(But…"
      ]
     },
     "execution_count": 56,
     "metadata": {},
     "output_type": "execute_result"
    }
   ],
   "source": [
    "inter_2d = DCSoundingInteract(A_ex, B_ex, M_ex, N_ex)\n",
    "\n",
    "thick_inter2d = [10,1]\n",
    "cond_inter2d = [0.02, 0.1, 0.01]\n",
    "\n",
    "inter_2d.set_model(thick_inter2d, cond_inter2d)\n",
    "inter_2d"
   ]
  },
  {
   "cell_type": "code",
   "execution_count": null,
   "id": "bb7efd7a-bd3f-4409-a692-55589dd57a36",
   "metadata": {},
   "outputs": [],
   "source": [
    "thick_2d, cond_2d = inter_2d.get_model()\n",
    "thick_2d"
   ]
  },
  {
   "cell_type": "markdown",
   "id": "23232305-6b96-45d5-96f9-49da9fbaea9b",
   "metadata": {},
   "source": [
    "## Task 3"
   ]
  },
  {
   "cell_type": "code",
   "execution_count": 61,
   "id": "645fb776-401b-4571-9c12-000ff964dee7",
   "metadata": {},
   "outputs": [
    {
     "data": {
      "application/vnd.jupyter.widget-view+json": {
       "model_id": "067e4efff5de484ebe4d802bef776350",
       "version_major": 2,
       "version_minor": 0
      },
      "text/plain": [
       "DCSoundingInteract(children=(HBox(children=(Box(children=(ConductivityModelCanvas(children=(HBox(children=(But…"
      ]
     },
     "execution_count": 61,
     "metadata": {},
     "output_type": "execute_result"
    }
   ],
   "source": [
    "inter_3c = DCSoundingInteract(A_ex, B_ex, M_ex, N_ex)\n",
    "\n",
    "thick_inter3c = [10,5]\n",
    "cond_inter3c = [0.02, 0.04,0.1]\n",
    "\n",
    "inter_3c.set_model(thick_inter3c, cond_inter3c)\n",
    "inter_3c"
   ]
  },
  {
   "cell_type": "code",
   "execution_count": 65,
   "id": "08a05f87-cdc5-47ed-a504-4d4f5c63ad68",
   "metadata": {},
   "outputs": [
    {
     "data": {
      "application/vnd.jupyter.widget-view+json": {
       "model_id": "4c42833896c646f680e8da1686455042",
       "version_major": 2,
       "version_minor": 0
      },
      "text/plain": [
       "DCSoundingInteract(children=(HBox(children=(Box(children=(ConductivityModelCanvas(children=(HBox(children=(But…"
      ]
     },
     "execution_count": 65,
     "metadata": {},
     "output_type": "execute_result"
    }
   ],
   "source": [
    "inter_3d = DCSoundingInteract(A_ex, B_ex, M_ex, N_ex)\n",
    "\n",
    "thick_inter3d = [10,5]\n",
    "cond_inter3d = [0.02, 0.4, 0.01]\n",
    "\n",
    "inter_3d.set_model(thick_inter3d, cond_inter3d)\n",
    "inter_3d"
   ]
  }
 ],
 "metadata": {
  "kernelspec": {
   "display_name": "Python 3 (ipykernel)",
   "language": "python",
   "name": "python3"
  },
  "language_info": {
   "codemirror_mode": {
    "name": "ipython",
    "version": 3
   },
   "file_extension": ".py",
   "mimetype": "text/x-python",
   "name": "python",
   "nbconvert_exporter": "python",
   "pygments_lexer": "ipython3",
   "version": "3.12.11"
  }
 },
 "nbformat": 4,
 "nbformat_minor": 5
}
