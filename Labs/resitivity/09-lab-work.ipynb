{
 "cells": [
  {
   "cell_type": "code",
   "execution_count": 1,
   "id": "1cbe78f9-fcf5-4afb-a268-7fe99d9902fb",
   "metadata": {},
   "outputs": [],
   "source": [
    "from dc_utils.dc_sounding import DCSoundingInteract\n",
    "import numpy as np\n",
    "import pandas as pd"
   ]
  },
  {
   "cell_type": "code",
   "execution_count": 3,
   "id": "3463c02e-d0ba-4b09-81f7-5be2cb28c431",
   "metadata": {},
   "outputs": [],
   "source": [
    "example_locs = pd.read_csv('data/lab03_positions.csv')\n",
    "A_ex = example_locs['A']\n",
    "B_ex = example_locs['B']\n",
    "M_ex = example_locs['M']\n",
    "N_ex = example_locs['N']"
   ]
  },
  {
   "cell_type": "code",
   "execution_count": null,
   "id": "84914747-5cb0-412a-85f4-eac25c6443b7",
   "metadata": {},
   "outputs": [],
   "source": [
    "# play_interactor.get_data()\n",
    "\n",
    "# thick, cond = play_interactor.get_model()\n",
    "# thick, cond"
   ]
  },
  {
   "cell_type": "markdown",
   "id": "1985c4ce-bdd4-46a7-b607-2333e6480b0c",
   "metadata": {},
   "source": [
    "# Forward Modeling"
   ]
  },
  {
   "cell_type": "markdown",
   "id": "bf206ff0-1d48-465f-9055-826ef20abb82",
   "metadata": {},
   "source": [
    "## Task 1"
   ]
  },
  {
   "cell_type": "code",
   "execution_count": 5,
   "id": "d2ad6402-651e-417d-837c-12d35a8517a4",
   "metadata": {},
   "outputs": [
    {
     "data": {
      "application/vnd.jupyter.widget-view+json": {
       "model_id": "bb45bb0705264b4e80a7a7bbe32f2d72",
       "version_major": 2,
       "version_minor": 0
      },
      "text/plain": [
       "DCSoundingInteract(children=(HBox(children=(Box(children=(ConductivityModelCanvas(children=(HBox(children=(But…"
      ]
     },
     "execution_count": 5,
     "metadata": {},
     "output_type": "execute_result"
    }
   ],
   "source": [
    "inter_1a = DCSoundingInteract(A_ex, B_ex, M_ex, N_ex)\n",
    "\n",
    "thick_inter1a = [10]\n",
    "cond_inter1a = [0.02, 0.01]\n",
    "\n",
    "inter_1a.set_model(thick_inter1a, cond_inter1a)\n",
    "inter_1a"
   ]
  },
  {
   "cell_type": "code",
   "execution_count": 8,
   "id": "33e0f171-9455-4571-b943-23ba8767ae88",
   "metadata": {},
   "outputs": [
    {
     "data": {
      "application/vnd.jupyter.widget-view+json": {
       "model_id": "be951140a71a4e30b9ce6388d609fde8",
       "version_major": 2,
       "version_minor": 0
      },
      "text/plain": [
       "DCSoundingInteract(children=(HBox(children=(Box(children=(ConductivityModelCanvas(children=(HBox(children=(But…"
      ]
     },
     "execution_count": 8,
     "metadata": {},
     "output_type": "execute_result"
    }
   ],
   "source": [
    "inter_1b = DCSoundingInteract(A_ex, B_ex, M_ex, N_ex)\n",
    "\n",
    "thick_inter1b = [10]\n",
    "cond_inter1b = [0.01, 0.02]\n",
    "\n",
    "inter_1b.set_model(thick_inter1b, cond_inter1b)\n",
    "inter_1b"
   ]
  },
  {
   "cell_type": "code",
   "execution_count": 9,
   "id": "abf7d350-583b-4c4a-872c-86b8b2314e5e",
   "metadata": {},
   "outputs": [
    {
     "data": {
      "application/vnd.jupyter.widget-view+json": {
       "model_id": "9c088b28e3c84b3e9d7018434068bfdf",
       "version_major": 2,
       "version_minor": 0
      },
      "text/plain": [
       "DCSoundingInteract(children=(HBox(children=(Box(children=(ConductivityModelCanvas(children=(HBox(children=(But…"
      ]
     },
     "execution_count": 9,
     "metadata": {},
     "output_type": "execute_result"
    }
   ],
   "source": [
    "inter_1c = DCSoundingInteract(A_ex, B_ex, M_ex, N_ex)\n",
    "\n",
    "thick_inter1c = [10,20]\n",
    "cond_inter1c = [0.02, 0.01,0.1]\n",
    "\n",
    "inter_1c.set_model(thick_inter1c, cond_inter1c)\n",
    "inter_1c"
   ]
  },
  {
   "cell_type": "code",
   "execution_count": 10,
   "id": "47e3ca60-7ac2-408d-b9a0-7f26a2961cd4",
   "metadata": {},
   "outputs": [
    {
     "data": {
      "application/vnd.jupyter.widget-view+json": {
       "model_id": "2b65dc5227fb465db86b71510075d630",
       "version_major": 2,
       "version_minor": 0
      },
      "text/plain": [
       "DCSoundingInteract(children=(HBox(children=(Box(children=(ConductivityModelCanvas(children=(HBox(children=(But…"
      ]
     },
     "execution_count": 10,
     "metadata": {},
     "output_type": "execute_result"
    }
   ],
   "source": [
    "inter_1d = DCSoundingInteract(A_ex, B_ex, M_ex, N_ex)\n",
    "\n",
    "thick_inter1d = [10,20]\n",
    "cond_inter1d = [0.02, 0.1, 0.01]\n",
    "\n",
    "inter_1d.set_model(thick_inter1d, cond_inter1d)\n",
    "inter_1d"
   ]
  }
 ],
 "metadata": {
  "kernelspec": {
   "display_name": "Python 3 (ipykernel)",
   "language": "python",
   "name": "python3"
  },
  "language_info": {
   "codemirror_mode": {
    "name": "ipython",
    "version": 3
   },
   "file_extension": ".py",
   "mimetype": "text/x-python",
   "name": "python",
   "nbconvert_exporter": "python",
   "pygments_lexer": "ipython3",
   "version": "3.12.11"
  }
 },
 "nbformat": 4,
 "nbformat_minor": 5
}
