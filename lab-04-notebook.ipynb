{
 "cells": [
  {
   "cell_type": "markdown",
   "id": "c2daa29a-2bb9-4bac-8d6d-df44799f2ef9",
   "metadata": {},
   "source": [
    "# Lab 04- Radius of The Earth"
   ]
  },
  {
   "cell_type": "markdown",
   "id": "3cf22c6d-fb33-4693-b66b-264e7b920faf",
   "metadata": {},
   "source": [
    "### Lillian Hanson, 09/24/2025, GPGN318A"
   ]
  },
  {
   "cell_type": "code",
   "execution_count": 9,
   "id": "3c86aa05-a57e-4190-8a40-50095b6d63a7",
   "metadata": {},
   "outputs": [],
   "source": [
    "import numpy as np\n",
    "import matplotlib.pyplot as plt"
   ]
  },
  {
   "cell_type": "markdown",
   "id": "361e8bae-7ff5-4020-a566-a8857663f345",
   "metadata": {},
   "source": [
    "#### Processing Calibrations\n",
    "The relative gravimeters need to be calibrated to give us actual mGal values. The CG5 already accounts for this and the number it gives you is in units of mGals. For the LNR though, you must account for the calibration by hand, we have attached the (somewhat outdated) calibration sheet for our specific LNR meter. You can use this to calculate the relative gravity from the dial reading as follows:\n",
    "\n",
    "Denote your dial reading as A.\n",
    "In the supplied table (see attachment), find the nearest integer smaller than your reading from the column labeled “Counter Reading”, denote this as B.\n",
    "Find the corresponding mGal value in the column labeled as “Value in mGal”, denote this as C.\n",
    "Find the corresponding factor value from the column labeled as “Factor for Interval”, denote this as F.\n",
    "Calculate the gravity in mGal using the formula: $g = C + F * (A - B)$.\n",
    "Note: You might notice this equation as adjusting the gravity value using a linear interpolation between two known values."
   ]
  },
  {
   "cell_type": "markdown",
   "id": "23520ce6-eed5-49aa-a396-e05582a9117d",
   "metadata": {},
   "source": [
    "#### Measurement Averaging\n",
    "Treat each instrument separately!\n",
    "\n",
    "Average the gravity measurements taken at each visit to the stations. We visisted the stations in the following order:\n",
    "\n",
    "- Station 1 : visit 1 \n",
    "- Station 2 : visit 1\n",
    "- Station 3 : visit 1\n",
    "- Station 2 : visit 2\n",
    "- Station 1 : visit 2\n",
    "So you'll need to average all of the LNR readings at Station 1 : visit 1 together to obtain a single measurement for that location and time. Repeat with each of the visits to each station for each instrument (treat the two CG-5's separately).\n",
    "\n",
    "At the end should have a single measurement for each of the three instruments at every visit: 5 for the LNR, 5 for CG-5 1 and 5 for CG-5 2."
   ]
  },
  {
   "cell_type": "code",
   "execution_count": 2,
   "id": "8bb5d436-9dae-4bfd-adaa-ae7df47d13f0",
   "metadata": {},
   "outputs": [],
   "source": [
    "# Note these are currently just placeholders for whatever values you obtain\n",
    "lnr_grav = np.array([1, 2, 3, 4, 5])\n",
    "lnr_time = np.array([1, 2, 3, 4, 5])\n",
    "\n",
    "cg5_1_grav = np.array([1, 2, 3, 4, 5])\n",
    "cg5_1_time = np.array([1, 2, 3, 4, 5])\n",
    "\n",
    "cg5_2_grav = np.array([1, 2, 3, 4, 5])\n",
    "cg5_2_grav = np.array([1, 2, 3, 4, 5])"
   ]
  },
  {
   "cell_type": "markdown",
   "id": "315eb325-8379-4ad4-bcda-166b02f0e8a7",
   "metadata": {},
   "source": [
    "### Question 1\n",
    "Comment on the variability of the measurements at each visit for each instrument."
   ]
  },
  {
   "cell_type": "markdown",
   "id": "cb7b5374-0c50-42bb-a2f6-b519491cb723",
   "metadata": {},
   "source": [
    "#### Drift Correction\n",
    "There are many things that could change the actual acceleration of gravity throughout the time of our survey. To correct for this, we assume that the change is linear in time and repeated the measurement at station 1 at the end of the survey (we made a loop).\n",
    "\n",
    "Create a function that linearly interpolates the gravity values at Station 1 as a function of time:"
   ]
  },
  {
   "cell_type": "code",
   "execution_count": 3,
   "id": "f8cd38cc-c429-4a42-b52e-79f20c6b0848",
   "metadata": {},
   "outputs": [],
   "source": [
    "def grav_interp(grav_1, grav_2, time_1, time_2, time):\n",
    "    \"\"\"Linearly interpolates as a function of time\n",
    "    Parameters\n",
    "    ----------\n",
    "    grav_1, grav_2 : float\n",
    "        The values of gravity at a single location at multiple times\n",
    "    time_1, time_2 : float\n",
    "        The times associated with grav_1 and grav_2, respectively\n",
    "    time : float, numpy.ndarray\n",
    "        The times you want to evaluate the interpolated gravity at a single location\n",
    "\n",
    "    Returns\n",
    "    -------\n",
    "    float, numpy.ndarray\n",
    "        The gravity at a single location evaluates at `time`.\n",
    "    \"\"\"\n",
    "    return np.zeros_like(time) #TODO: some function of `time` linearly interpolating between station 1 visits 1 and 2."
   ]
  },
  {
   "cell_type": "markdown",
   "id": "09374d4a-8103-4399-9392-5cb95370b0ba",
   "metadata": {},
   "source": [
    "You will need to calculate the value of gravity at station 1 at each time for each of the instruments. Then subtract that value from every measurement. If done correctly the repeated values of station 1 at the start and end should be the same and equal to 0."
   ]
  },
  {
   "cell_type": "code",
   "execution_count": 4,
   "id": "b77929c6-d0a5-4bc9-9299-82263cf66f12",
   "metadata": {},
   "outputs": [
    {
     "ename": "AssertionError",
     "evalue": "",
     "output_type": "error",
     "traceback": [
      "\u001b[31m---------------------------------------------------------------------------\u001b[39m",
      "\u001b[31mAssertionError\u001b[39m                            Traceback (most recent call last)",
      "\u001b[36mCell\u001b[39m\u001b[36m \u001b[39m\u001b[32mIn[4]\u001b[39m\u001b[32m, line 2\u001b[39m\n\u001b[32m      1\u001b[39m lnr_drift_corr = lnr_grav - grav_interp(lnr_grav[\u001b[32m0\u001b[39m], lnr_grav[-\u001b[32m1\u001b[39m], lnr_time[\u001b[32m0\u001b[39m], lnr_time[\u001b[32m1\u001b[39m], lnr_time)\n\u001b[32m----> \u001b[39m\u001b[32m2\u001b[39m \u001b[38;5;28;01massert\u001b[39;00m lnr_drift_corr[\u001b[32m0\u001b[39m] == lnr_drift_corr[-\u001b[32m1\u001b[39m] == \u001b[32m0\u001b[39m\n",
      "\u001b[31mAssertionError\u001b[39m: "
     ]
    }
   ],
   "source": [
    "lnr_drift_corr = lnr_grav - grav_interp(lnr_grav[0], lnr_grav[-1], lnr_time[0], lnr_time[1], lnr_time)\n",
    "assert lnr_drift_corr[0] == lnr_drift_corr[-1] == 0"
   ]
  },
  {
   "cell_type": "markdown",
   "id": "f4a4e275-88cb-4bea-92f3-2847d4f5772d",
   "metadata": {},
   "source": [
    "### Question 2\n",
    "We repeated station 2 twice as well, how close are the values at this station after drift corrections?"
   ]
  },
  {
   "cell_type": "markdown",
   "id": "91bfa711-cc49-4e16-9ed4-7f3b772c2433",
   "metadata": {},
   "source": [
    "#### Relative Gravity at each station\n",
    "For each instrument you should now have their drift corrected relative gravity measurements. Since you have subtract the value of gravity of Station 1 from every Station, your measurements are relative to Station 1.\n",
    "\n",
    "Next, for each instrument average any values at repeated stations to obtain a single measurement at each station (independant of time)."
   ]
  },
  {
   "cell_type": "code",
   "execution_count": 5,
   "id": "849c2cd9-2808-4d9f-9b56-0057d862df78",
   "metadata": {},
   "outputs": [],
   "source": [
    "# These arrays should end up with your final relative\n",
    "# values at each of the three stations for each instrument\n",
    "lnr_rel = np.array([1, 2, 3])\n",
    "cg5_1_rel = np.array([1, 2, 3])\n",
    "cg5_2_rel = np.array([1, 2, 3])"
   ]
  },
  {
   "cell_type": "markdown",
   "id": "49620d77-2179-4b9d-b723-209e06d952c5",
   "metadata": {},
   "source": [
    "#### Relative to Absolute\n",
    "Both the CG5 and the LNR are relative gravimeters, meaning they do not measure the full gravity value, instead they measure differences in gravity between two stations. The units of their data are in mGal (after calibration), the difference between 1 mGal and another is accurate, but a single value itself is meaningless.\n",
    "\n",
    "Ex. Imagine someone telling you it was 1.4233 degrees celsius warmer inside than it was outside. They obtained this number by using an instrument that read out 331$^\\circ$C and 332.4233$^\\circ$C. The value itself doesn’t mean anything, but the difference between them is accurate. If the true temperature inside was 24$^\\circ$C, then you could use this hypothetical relative temperature sensor to determine that the temperature outside was actually 24.4233$^\\circ$C.\n",
    "\n",
    "Because we know for certain the gravity value at one of the stations, we can use its value, and the relative differences from the gravimeters, to determine the absolute gravity at each of the other stations.\n",
    "\n",
    "After drift corrections your data are explicitly the differences between each visit and station 1 ($\\Delta S_i$). Use these values to calculate the absolute gravity at each station.\n",
    "$$\\cdot g_{abs, S_2}= \\Delta (S_2)+g_{abs, S_1}$$\n"
   ]
  },
  {
   "cell_type": "code",
   "execution_count": 7,
   "id": "2eb8f69f-e78c-41f4-9428-3c657e71570b",
   "metadata": {},
   "outputs": [],
   "source": [
    "lnr_absol = ...\n",
    "cg5_1_absol = ...\n",
    "cg5_2_absol = ..."
   ]
  },
  {
   "cell_type": "markdown",
   "id": "8d02607f-27da-4972-83ad-6516a59cdb56",
   "metadata": {},
   "source": [
    "### Question 3\n",
    "For each instrument calculate an approximate gradient between stations 2 and 3.\n",
    "$$\\partial_zg \\approx \\frac{gs_3-gs_2}{\\Delta H}$$ How close is this to the theoretical free air gradient of -0.3086 mGal/m? Comment on any sources of error you might have encountered."
   ]
  },
  {
   "cell_type": "markdown",
   "id": "bdcfedf1-2221-4741-ba95-1f48c233665c",
   "metadata": {},
   "source": [
    "#### Determining the radius of the Earth\n",
    "With the absolute gravity values at each location we can now find the radius of the Earth, without needing to know the mass (or the gravitational constant)! We are going to use a first order Taylor series expansion of Newton’s Universal Law of Gravitation:"
   ]
  },
  {
   "cell_type": "markdown",
   "id": "1fbc7121-7aa4-4418-89a3-0ac463681f63",
   "metadata": {},
   "source": [
    "### Question 4\n",
    "Find an expression for the radius of the Earth at Station 2.\n",
    "\n",
    "First, find the derivative of Newton's law with respect to $R$\n",
    "$$\\frac{\\partial g_{abs}}{\\partial R} = ...$$\n",
    "Then simplify this using $g_{abs}(R)$ itself. i.e.\n",
    "$$\\frac{\\partial g_{abs}}{\\partial R}=g_{abs}(R)...$$\n",
    "Use Newton's law in the Taylor series with $f(a)=g_{abs}(S_2)$ and $f(x)=g_{abs}(S_3)$ including only the first order in $x$ to show that\n",
    "$$g_{abs}(S_3) \\approx g_{abs}(S_2)-2\\frac{g(S_2)}{R_2}\\Delta H$$\n",
    "Finally solve for $R_2$ to obtain an expression for the radius of the Earth at Station 2. "
   ]
  },
  {
   "cell_type": "markdown",
   "id": "9404f78f-225d-46ec-8558-c383e1c8fe46",
   "metadata": {},
   "source": [
    "### Question 5\n",
    "Use your equation to obtain estimates of the Earth for each instrument. Comment on how close they were to each other and how close they were to the distance to the center of the Earth in Golden. "
   ]
  },
  {
   "cell_type": "markdown",
   "id": "51feea2c-6f17-4be5-acaa-5b665c1919c8",
   "metadata": {},
   "source": [
    "### Deliverables:\n",
    "- Describe the steps necessary to take a reading with each gravimeter\n",
    "- Answer the questions throughout the report (5 total)\n",
    "- Present the results of your attempts to measure the radius of the Earth.\n",
    "- Attatch your field notebook to your report."
   ]
  }
 ],
 "metadata": {
  "kernelspec": {
   "display_name": "Python 3 (ipykernel)",
   "language": "python",
   "name": "python3"
  },
  "language_info": {
   "codemirror_mode": {
    "name": "ipython",
    "version": 3
   },
   "file_extension": ".py",
   "mimetype": "text/x-python",
   "name": "python",
   "nbconvert_exporter": "python",
   "pygments_lexer": "ipython3",
   "version": "3.13.7"
  }
 },
 "nbformat": 4,
 "nbformat_minor": 5
}
